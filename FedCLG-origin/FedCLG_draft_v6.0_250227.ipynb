{
 "cells": [
  {
   "cell_type": "code",
   "execution_count": 27,
   "metadata": {},
   "outputs": [],
   "source": [
    "import torch\n",
    "import torchvision\n",
    "import torchvision.transforms as transforms\n",
    "import numpy as np\n",
    "from torch import nn\n",
    "from torch.utils.data import DataLoader, Dataset, TensorDataset\n",
    "from tqdm import tqdm\n",
    "import copy\n",
    "import matplotlib.pyplot as plt\n",
    "from collections import OrderedDict, defaultdict\n",
    "import random\n",
    "import torch.nn.functional as F\n",
    "import torch.nn.functional as func\n",
    "import collections\n",
    "from sklearn.model_selection import train_test_split\n",
    "from collections import Counter\n",
    "from utils.language_utils import word_to_indices, letter_to_vec\n",
    "from utils.ShakeSpeare_reduce import ShakeSpeare\n",
    "\n",
    "import math\n",
    "\n",
    "from models.lstm import *"
   ]
  },
  {
   "cell_type": "markdown",
   "metadata": {},
   "source": [
    "v 6.0\n",
    "\n",
    "FedDU复现"
   ]
  },
  {
   "cell_type": "code",
   "execution_count": 28,
   "metadata": {},
   "outputs": [],
   "source": [
    "import os\n",
    "os.environ['KMP_DUPLICATE_LIB_OK']='True' # 解决由于多次加载 OpenMP 相关动态库而引起的冲突"
   ]
  },
  {
   "cell_type": "code",
   "execution_count": 29,
   "metadata": {},
   "outputs": [
    {
     "name": "stdout",
     "output_type": "stream",
     "text": [
      "Torch version: 2.3.1\n",
      "CUDA available: True\n"
     ]
    }
   ],
   "source": [
    "# import sys\n",
    "# print(sys.executable)\n",
    "\n",
    "# print(torch.cuda.is_available())\n",
    "# print(torch.cuda.get_device_capability())\n",
    "\n",
    "# gpu_info = !nvidia-smi\n",
    "# env = !env\n",
    "# print(env)\n",
    "\n",
    "# gpu_info = '\\n'.join(gpu_info)\n",
    "# if gpu_info.find('failed') >= 0:\n",
    "#   print('Not connected to a GPU')\n",
    "# else:\n",
    "#   print(gpu_info)\n",
    "\n",
    "import torch\n",
    "print(\"Torch version:\", torch.__version__)\n",
    "print(\"CUDA available:\", torch.cuda.is_available())"
   ]
  },
  {
   "cell_type": "code",
   "execution_count": 30,
   "metadata": {},
   "outputs": [],
   "source": [
    "\n",
    "class LinearBottleNeck(nn.Module):\n",
    "\n",
    "    def __init__(self, in_channels, out_channels, stride, t=6, class_num=100):\n",
    "        super().__init__()\n",
    "\n",
    "        self.residual = nn.Sequential(\n",
    "            nn.Conv2d(in_channels, in_channels * t, 1),\n",
    "            nn.BatchNorm2d(in_channels * t),\n",
    "            nn.ReLU6(inplace=True),\n",
    "\n",
    "            nn.Conv2d(in_channels * t, in_channels * t, 3, stride=stride, padding=1, groups=in_channels * t),\n",
    "            nn.BatchNorm2d(in_channels * t),\n",
    "            nn.ReLU6(inplace=True),\n",
    "\n",
    "            nn.Conv2d(in_channels * t, out_channels, 1),\n",
    "            nn.BatchNorm2d(out_channels)\n",
    "        )\n",
    "\n",
    "        self.stride = stride\n",
    "        self.in_channels = in_channels\n",
    "        self.out_channels = out_channels\n",
    "\n",
    "    def forward(self, x):\n",
    "\n",
    "        residual = self.residual(x)\n",
    "\n",
    "        if self.stride == 1 and self.in_channels == self.out_channels:\n",
    "            residual += x\n",
    "\n",
    "        return residual\n",
    "\n",
    "# MobileNetV2（比lenet更复杂的CNN网络）网络中的线性瓶颈结构，原文中用于CIFAR-100任务\n",
    "class MobileNetV2(nn.Module):\n",
    "\n",
    "    def __init__(self, class_num=20):\n",
    "        super().__init__()\n",
    "\n",
    "        self.pre = nn.Sequential(\n",
    "            nn.Conv2d(3, 32, 1, padding=1),\n",
    "            nn.BatchNorm2d(32),\n",
    "            nn.ReLU6(inplace=True)\n",
    "        )\n",
    "\n",
    "        self.stage1 = LinearBottleNeck(32, 16, 1, 1)\n",
    "        self.stage2 = self._make_stage(2, 16, 24, 2, 6)\n",
    "        self.stage3 = self._make_stage(3, 24, 32, 2, 6)\n",
    "        self.stage4 = self._make_stage(4, 32, 64, 2, 6)\n",
    "        self.stage5 = self._make_stage(3, 64, 96, 1, 6)\n",
    "        self.stage6 = self._make_stage(3, 96, 160, 1, 6)\n",
    "        self.stage7 = LinearBottleNeck(160, 320, 1, 6)\n",
    "\n",
    "        self.conv1 = nn.Sequential(\n",
    "            nn.Conv2d(320, 1280, 1),\n",
    "            nn.BatchNorm2d(1280),\n",
    "            nn.ReLU6(inplace=True)\n",
    "        )\n",
    "\n",
    "        self.conv2 = nn.Conv2d(1280, class_num, 1)\n",
    "\n",
    "    def forward(self, x):\n",
    "        x = self.pre(x)\n",
    "        x = self.stage1(x)\n",
    "        x = self.stage2(x)\n",
    "        x = self.stage3(x)\n",
    "        x = self.stage4(x)\n",
    "        x = self.stage5(x)\n",
    "        x = self.stage6(x)\n",
    "        x = self.stage7(x)\n",
    "        x = self.conv1(x)\n",
    "        x = F.adaptive_avg_pool2d(x, 1)\n",
    "        x = self.conv2(x)\n",
    "        x = x.view(x.size(0), -1)\n",
    "\n",
    "        return x\n",
    "\n",
    "    def _make_stage(self, repeat, in_channels, out_channels, stride, t):\n",
    "\n",
    "        layers = []\n",
    "        layers.append(LinearBottleNeck(in_channels, out_channels, stride, t))\n",
    "\n",
    "        while repeat - 1:\n",
    "            layers.append(LinearBottleNeck(out_channels, out_channels, 1, t))\n",
    "            repeat -= 1\n",
    "\n",
    "        return nn.Sequential(*layers)\n",
    "\n",
    "def mobilenetv2():\n",
    "    return MobileNetV2()\n",
    "\n",
    "\n",
    "# FedMut中采用的cnn模型\n",
    "class CNNCifar(nn.Module):\n",
    "    def __init__(self):\n",
    "        super(CNNCifar, self).__init__()\n",
    "        self.conv1 = nn.Conv2d(3, 6, 5)\n",
    "        self.pool = nn.MaxPool2d(2, 2)\n",
    "        self.conv2 = nn.Conv2d(6, 16, 5)\n",
    "        self.fc1 = nn.Linear(16 * 5 * 5, 120)\n",
    "        self.fc2 = nn.Linear(120, 84)\n",
    "        self.fc3 = nn.Linear(84, num_classes)\n",
    "\n",
    "    def forward(self, x, start_layer_idx=0, logit=False):\n",
    "        if start_layer_idx < 0:  #\n",
    "            return self.mapping(x, start_layer_idx=start_layer_idx, logit=logit)\n",
    "        x = self.pool(F.relu(self.conv1(x)))\n",
    "        x = self.pool(F.relu(self.conv2(x)))\n",
    "        result = {'activation' : x}\n",
    "        x = x.view(-1, 16 * 5 * 5)\n",
    "        result['hint'] = x\n",
    "        x = F.relu(self.fc1(x))\n",
    "        x = F.relu(self.fc2(x))\n",
    "        result['representation'] = x\n",
    "        x = self.fc3(x)\n",
    "        result['output'] = x\n",
    "        return result\n",
    "\n",
    "    def mapping(self, z_input, start_layer_idx=-1, logit=True):\n",
    "        z = z_input\n",
    "        z = self.fc3(z)\n",
    "\n",
    "        result = {'output': z}\n",
    "        if logit:\n",
    "            result['logit'] = z\n",
    "        return result\n",
    "    \n",
    "def cnncifar():\n",
    "    return CNNCifar()\n",
    "\n",
    "\n",
    "\n",
    "def conv3x3(in_planes, out_planes, stride=1, groups=1, dilation=1):\n",
    "    \"\"\"3x3 convolution with padding\"\"\"\n",
    "    return nn.Conv2d(in_planes, out_planes, kernel_size=3, stride=stride,\n",
    "                     padding=dilation, groups=groups, bias=False, dilation=dilation)\n",
    "\n",
    "\n",
    "def conv1x1(in_planes, out_planes, stride=1):\n",
    "    \"\"\"1x1 convolution\"\"\"\n",
    "    return nn.Conv2d(in_planes, out_planes, kernel_size=1, stride=stride, bias=False)\n",
    "\n",
    "\n",
    "\n",
    "class BasicBlock(nn.Module):\n",
    "    expansion = 1\n",
    "\n",
    "    def __init__(self, inplanes, planes, stride=1, downsample=None, groups=1,\n",
    "                 base_width=64, dilation=1, norm_layer=None):\n",
    "        super(BasicBlock, self).__init__()\n",
    "        if norm_layer is None:\n",
    "            norm_layer = nn.BatchNorm2d\n",
    "        if groups != 1 or base_width != 64:\n",
    "            raise ValueError('BasicBlock only supports groups=1 and base_width=64')\n",
    "        if dilation > 1:\n",
    "            raise NotImplementedError(\"Dilation > 1 not supported in BasicBlock\")\n",
    "        # Both self.conv1 and self.downsample layers downsample the input when stride != 1\n",
    "        self.conv1 = conv3x3(inplanes, planes, stride)\n",
    "        self.bn1 = norm_layer(planes)\n",
    "        self.relu = nn.ReLU(inplace=True)\n",
    "        self.conv2 = conv3x3(planes, planes)\n",
    "        self.bn2 = norm_layer(planes)\n",
    "        self.downsample = downsample\n",
    "        self.stride = stride\n",
    "\n",
    "    def forward(self, x):\n",
    "        identity = x\n",
    "\n",
    "        out = self.conv1(x)\n",
    "        out = self.bn1(out)\n",
    "        out = self.relu(out)\n",
    "\n",
    "        out = self.conv2(out)\n",
    "        out = self.bn2(out)\n",
    "\n",
    "        if self.downsample is not None:\n",
    "            identity = self.downsample(x)\n",
    "\n",
    "        out += identity\n",
    "        out = self.relu(out)\n",
    "\n",
    "        return out\n",
    "\n",
    "class Bottleneck(nn.Module):\n",
    "\n",
    "    expansion = 4\n",
    "\n",
    "    def __init__(self, inplanes, planes, stride=1, downsample=None, groups=1,\n",
    "                 base_width=64, dilation=1, norm_layer=None):\n",
    "        super(Bottleneck, self).__init__()\n",
    "        if norm_layer is None:\n",
    "            norm_layer = nn.BatchNorm2d\n",
    "        width = int(planes * (base_width / 64.)) * groups\n",
    "        # Both self.conv2 and self.downsample layers downsample the input when stride != 1\n",
    "        self.conv1 = conv1x1(inplanes, width)\n",
    "        self.bn1 = norm_layer(width)\n",
    "        self.conv2 = conv3x3(width, width, stride, groups, dilation)\n",
    "        self.bn2 = norm_layer(width)\n",
    "        self.conv3 = conv1x1(width, planes * self.expansion)\n",
    "        self.bn3 = norm_layer(planes * self.expansion)\n",
    "        self.relu = nn.ReLU(inplace=True)\n",
    "        self.downsample = downsample\n",
    "        self.stride = stride\n",
    "\n",
    "    def forward(self, x):\n",
    "        identity = x\n",
    "\n",
    "        out = self.conv1(x)\n",
    "        out = self.bn1(out)\n",
    "        out = self.relu(out)\n",
    "\n",
    "        out = self.conv2(out)\n",
    "        out = self.bn2(out)\n",
    "        out = self.relu(out)\n",
    "\n",
    "        out = self.conv3(out)\n",
    "        out = self.bn3(out)\n",
    "\n",
    "        if self.downsample is not None:\n",
    "            identity = self.downsample(x)\n",
    "\n",
    "        out += identity\n",
    "        out = self.relu(out)\n",
    "\n",
    "        return out\n",
    "\n",
    "\n",
    "class ResNetCifar10(nn.Module):\n",
    "\n",
    "    def __init__(self, block, layers, zero_init_residual=False,\n",
    "                 groups=1, width_per_group=64, replace_stride_with_dilation=None,\n",
    "                 norm_layer=None):\n",
    "        super(ResNetCifar10, self).__init__()\n",
    "        if norm_layer is None:\n",
    "            norm_layer = nn.BatchNorm2d\n",
    "        self._norm_layer = norm_layer\n",
    "\n",
    "        self.inplanes = 64\n",
    "        self.dilation = 1\n",
    "        if replace_stride_with_dilation is None:\n",
    "            # each element in the tuple indicates if we should replace\n",
    "            # the 2x2 stride with a dilated convolution instead\n",
    "            replace_stride_with_dilation = [False, False, False]\n",
    "        if len(replace_stride_with_dilation) != 3:\n",
    "            raise ValueError(\"replace_stride_with_dilation should be None \"\n",
    "                             \"or a 3-element tuple, got {}\".format(replace_stride_with_dilation))\n",
    "        self.groups = groups\n",
    "        self.base_width = width_per_group\n",
    "        self.conv1 = nn.Conv2d(3, self.inplanes, kernel_size=3, stride=1, padding=1,\n",
    "                               bias=False)\n",
    "        self.bn1 = norm_layer(self.inplanes)\n",
    "        self.relu = nn.ReLU(inplace=True)\n",
    "        self.layer1 = self._make_layer(block, 64, layers[0])\n",
    "        self.layer2 = self._make_layer(block, 128, layers[1], stride=2,\n",
    "                                       dilate=replace_stride_with_dilation[0])\n",
    "        self.layer3 = self._make_layer(block, 256, layers[2], stride=2,\n",
    "                                       dilate=replace_stride_with_dilation[1])\n",
    "        self.layer4 = self._make_layer(block, 512, layers[3], stride=2,\n",
    "                                       dilate=replace_stride_with_dilation[2])\n",
    "        self.avgpool = nn.AdaptiveAvgPool2d((1, 1))\n",
    "        self.fc = nn.Linear(512 * block.expansion, num_classes)\n",
    "\n",
    "        for m in self.modules():\n",
    "            if isinstance(m, nn.Conv2d):\n",
    "                nn.init.kaiming_normal_(m.weight, mode='fan_out', nonlinearity='relu')\n",
    "            elif isinstance(m, (nn.BatchNorm2d, nn.GroupNorm)):\n",
    "                nn.init.constant_(m.weight, 1)\n",
    "                nn.init.constant_(m.bias, 0)\n",
    "\n",
    "        # Zero-initialize the last BN in each residual branch,\n",
    "        # so that the residual branch starts with zeros, and each residual block behaves like an identity.\n",
    "        if zero_init_residual:\n",
    "            for m in self.modules():\n",
    "                if isinstance(m, Bottleneck):\n",
    "                    nn.init.constant_(m.bn3.weight, 0)\n",
    "                elif isinstance(m, BasicBlock):\n",
    "                    nn.init.constant_(m.bn2.weight, 0)\n",
    "\n",
    "    def _make_layer(self, block, planes, blocks, stride=1, dilate=False):\n",
    "        norm_layer = self._norm_layer\n",
    "        downsample = None\n",
    "        previous_dilation = self.dilation\n",
    "        if dilate:\n",
    "            self.dilation *= stride\n",
    "            stride = 1\n",
    "        if stride != 1 or self.inplanes != planes * block.expansion:\n",
    "            downsample = nn.Sequential(\n",
    "                conv1x1(self.inplanes, planes * block.expansion, stride),\n",
    "                norm_layer(planes * block.expansion),\n",
    "            )\n",
    "\n",
    "        layers = []\n",
    "        layers.append(block(self.inplanes, planes, stride, downsample, self.groups,\n",
    "                            self.base_width, previous_dilation, norm_layer))\n",
    "        self.inplanes = planes * block.expansion\n",
    "        for _ in range(1, blocks):\n",
    "            layers.append(block(self.inplanes, planes, groups=self.groups,\n",
    "                                base_width=self.base_width, dilation=self.dilation,\n",
    "                                norm_layer=norm_layer))\n",
    "\n",
    "        return nn.Sequential(*layers)\n",
    "\n",
    "    def _forward_impl(self, x):\n",
    "        # See note [TorchScript super()]\n",
    "        x = self.conv1(x)\n",
    "        x = self.bn1(x)\n",
    "        x = self.relu(x)\n",
    "        result = {}\n",
    "        x = self.layer1(x)\n",
    "        result['activation1'] = x\n",
    "        x = self.layer2(x)\n",
    "        result['activation2'] = x\n",
    "        x = self.layer3(x)\n",
    "        result['activation3'] = x\n",
    "        x = self.layer4(x)\n",
    "        result['activation4'] = x\n",
    "\n",
    "        x = self.avgpool(x)\n",
    "        x = torch.flatten(x, 1)\n",
    "        result['representation'] = x\n",
    "        x = self.fc(x)\n",
    "        result['output'] = x\n",
    "\n",
    "        return result\n",
    "\n",
    "    def mapping(self, z_input, start_layer_idx=-1, logit=True):\n",
    "        z = z_input\n",
    "        z = self.fc(z)\n",
    "\n",
    "        result = {'output': z}\n",
    "        if logit:\n",
    "            result['logit'] = z\n",
    "        return result\n",
    "\n",
    "    def forward(self, x, start_layer_idx=0, logit=False):\n",
    "        if start_layer_idx < 0:  #\n",
    "            return self.mapping(x, start_layer_idx=start_layer_idx, logit=logit)\n",
    "        return self._forward_impl(x)\n",
    "\n",
    "\n",
    "def ResNet8(**kwargs):\n",
    "    return ResNetCifar10(BasicBlock, [1, 1, 1], **kwargs)\n",
    "\n",
    "def ResNet18_cifar10(**kwargs):\n",
    "    r\"\"\"ResNet-18 model from\n",
    "\n",
    "    Args:\n",
    "        pretrained (bool): If True, returns a model pre-trained on ImageNet\n",
    "        progress (bool): If True, displays a progress bar of the download to stderr\n",
    "    \"\"\"\n",
    "    return ResNetCifar10(BasicBlock, [2, 2, 2, 2], **kwargs)\n",
    "\n",
    "\n",
    "\n",
    "def ResNet50_cifar10(**kwargs):\n",
    "    r\"\"\"ResNet-50 model from\n",
    "\n",
    "    Args:\n",
    "        pretrained (bool): If True, returns a model pre-trained on ImageNet\n",
    "        progress (bool): If True, displays a progress bar of the download to stderr\n",
    "    \"\"\"\n",
    "    return ResNetCifar10(Bottleneck, [3, 4, 6, 3], **kwargs)"
   ]
  },
  {
   "cell_type": "code",
   "execution_count": 31,
   "metadata": {},
   "outputs": [],
   "source": [
    "# 新的测试：针对整个测试数据集的测试\n",
    "def test_inference(net_glob, dataset_test):\n",
    "    # testing\n",
    "    acc_test, loss_test = test_img(net_glob, dataset_test)\n",
    "\n",
    "    # print(\"Testing accuracy: {:.2f}\".format(acc_test))\n",
    "\n",
    "    return acc_test.item()\n",
    "\n",
    "def test_img(net_g, datatest):\n",
    "    net_g.eval()\n",
    "    # testing\n",
    "    # test loss代表在测试集上的平均损失（对测试数据的预测输出与真实标签的差距）\n",
    "    test_loss = 0\n",
    "    correct = 0\n",
    "    data_loader = DataLoader(datatest, batch_size=test_bc_size)\n",
    "    l = len(data_loader)\n",
    "    with torch.no_grad():\n",
    "        for idx, (data, target) in enumerate(data_loader):\n",
    "            data, target = data.to(device), target.to(device)\n",
    "            log_probs = net_g(data)['output']\n",
    "            # sum up batch loss\n",
    "            test_loss += F.cross_entropy(log_probs, target, reduction='sum').item()\n",
    "            # get the index of the max log-probability\n",
    "            y_pred = log_probs.data.max(1, keepdim=True)[1]\n",
    "            correct += y_pred.eq(target.data.view_as(y_pred)).long().cpu().sum()\n",
    "\n",
    "    test_loss /= len(data_loader.dataset)\n",
    "    accuracy = 100.00 * correct / len(data_loader.dataset)\n",
    "    if verbose:\n",
    "        print('\\nTest set: Average loss: {:.4f} \\nAccuracy: {}/{} ({:.2f}%)\\n'.format(\n",
    "            test_loss, correct, len(data_loader.dataset), accuracy))\n",
    "    return accuracy, test_loss"
   ]
  },
  {
   "cell_type": "code",
   "execution_count": 32,
   "metadata": {},
   "outputs": [],
   "source": [
    "# 将CIFAR-100的100个类别转为20个类别（粒度更粗，降低任务复杂度）\n",
    "def sparse2coarse(targets):\n",
    "    \"\"\"Convert Pytorch CIFAR100 sparse targets to coarse targets.\n",
    "\n",
    "    Usage:\n",
    "        trainset = torchvision.datasets.CIFAR100(path)\n",
    "        trainset.targets = sparse2coarse(trainset.targets)\n",
    "    \"\"\"\n",
    "    coarse_labels = np.array([ 4,  1, 14,  8,  0,  6,  7,  7, 18,  3,\n",
    "                               3, 14,  9, 18,  7, 11,  3,  9,  7, 11,\n",
    "                               6, 11,  5, 10,  7,  6, 13, 15,  3, 15,\n",
    "                               0, 11,  1, 10, 12, 14, 16,  9, 11,  5,\n",
    "                               5, 19,  8,  8, 15, 13, 14, 17, 18, 10,\n",
    "                               16, 4, 17,  4,  2,  0, 17,  4, 18, 17,\n",
    "                               10, 3,  2, 12, 12, 16, 12,  1,  9, 19,\n",
    "                               2, 10,  0,  1, 16, 12,  9, 13, 15, 13,\n",
    "                              16, 19,  2,  4,  6, 19,  5,  5,  8, 19,\n",
    "                              18,  1,  2, 15,  6,  0, 17,  8, 14, 13])\n",
    "    return coarse_labels[targets]"
   ]
  },
  {
   "cell_type": "code",
   "execution_count": 33,
   "metadata": {},
   "outputs": [],
   "source": [
    "\n",
    "# 共有6w个图像，其中5w训练，1w测试\n",
    "def CIFAR100():\n",
    "    '''Return Cifar100\n",
    "    '''\n",
    "    \n",
    "    # 参考FedMut进行正则化变化\n",
    "    trans_cifar100 = transforms.Compose(\n",
    "        [\n",
    "            transforms.ToTensor(),\n",
    "            transforms.Normalize(\n",
    "                (0.4914, 0.4822, 0.4465), (0.2023, 0.1994, 0.2010)\n",
    "            ),\n",
    "        ]\n",
    "    )\n",
    "    \n",
    "    train_dataset = torchvision.datasets.CIFAR100(root='../data/CIFAR-100',\n",
    "                                            train=True,\n",
    "                                            transform=trans_cifar100,\n",
    "                                            download=True)\n",
    "    test_dataset = torchvision.datasets.CIFAR100(root='../data/CIFAR-100',\n",
    "                                            train=False,\n",
    "                                            transform=trans_cifar100,\n",
    "                                            download=True)\n",
    "    \n",
    "    # 将图片转换成 numpy 数组格式，并对标签做了 coarse 处理\n",
    "    total_img,total_label = [],[]\n",
    "    for imgs,labels in train_dataset:\n",
    "        total_img.append(imgs.numpy())\n",
    "        total_label.append(labels)\n",
    "    total_img = np.array(total_img)\n",
    "    total_label = np.array(sparse2coarse(total_label))\n",
    "\n",
    "    cifar = [total_img, total_label]\n",
    "    \n",
    "    return cifar, test_dataset"
   ]
  },
  {
   "cell_type": "code",
   "execution_count": 34,
   "metadata": {},
   "outputs": [],
   "source": [
    "# 基于 Dirichlet 分布 来模拟non-IID。返回一个形状为 (client_num, class_num) 的概率矩阵，每一行代表一个客户端对各类别的概率分布。\n",
    "def get_prob(non_iid, client_num, class_num = 20):\n",
    "    # Modify：我之后加上的\n",
    "    if data_random_fix:\n",
    "        np.random.seed(seed_num)  # 固定种子，确保数据抽样一致\n",
    "    \n",
    "    return np.random.dirichlet(np.repeat(non_iid, class_num), client_num)"
   ]
  },
  {
   "cell_type": "code",
   "execution_count": 35,
   "metadata": {},
   "outputs": [],
   "source": [
    "# 全部用于构建训练集\n",
    "def create_data_all_train(prob, size_per_client, dataset, N=20):\n",
    "    total_each_class = size_per_client * np.sum(prob, 0)\n",
    "    data, label = dataset\n",
    "    \n",
    "\n",
    "    if data_random_fix:\n",
    "        np.random.seed(seed_num)  # 固定种子，确保数据抽样一致\n",
    "        random.seed(seed_num)\n",
    "\n",
    "    # 为每个类别随机采样数据\n",
    "    all_class_set = []\n",
    "    for i in range(N):\n",
    "        size = total_each_class[i]\n",
    "        sub_data = data[label == i]\n",
    "        sub_label = label[label == i]\n",
    "\n",
    "        num_samples = int(size)\n",
    "        if num_samples > len(sub_data):\n",
    "            print(f\"类别 {i} 的数据样本不足，采样数从 {num_samples} 调整为 {len(sub_data)}\")\n",
    "            num_samples = len(sub_data)\n",
    "        rand_indx = np.random.choice(len(sub_data), size=num_samples, replace=False).astype(int)\n",
    "        \n",
    "        sub2_data, sub2_label = sub_data[rand_indx], sub_label[rand_indx]\n",
    "        all_class_set.append((sub2_data, sub2_label))\n",
    "\n",
    "    index = [0] * N\n",
    "    clients = []\n",
    "\n",
    "    for m in range(prob.shape[0]):  # 遍历客户端\n",
    "        labels, images = [], []  # 训练数据\n",
    "\n",
    "        for n in range(N):\n",
    "            # 100%用于训练\n",
    "            start, end = index[n], index[n] + int(prob[m][n] * size_per_client)\n",
    "            image, label = all_class_set[n][0][start:end], all_class_set[n][1][start:end]\n",
    "\n",
    "            # 记录当前类别的数据分配进度\n",
    "            index[n] += int(prob[m][n] * size_per_client)\n",
    "\n",
    "            labels.extend(label)\n",
    "            images.extend(image)\n",
    "\n",
    "        clients.append((np.array(images), np.array(labels)))\n",
    "\n",
    "    return clients\n",
    "\n",
    "# 80%构建训练集，20%构建测试集\n",
    "def create_data(prob, size_per_client, dataset, N=20):\n",
    "    total_each_class = size_per_client * np.sum(prob, 0)\n",
    "    data, label = dataset\n",
    "\n",
    "    # Modify：我之后加上的\n",
    "    if data_random_fix:\n",
    "        np.random.seed(seed_num)  # 固定种子，确保数据抽样一致\n",
    "        random.seed(seed_num)\n",
    "\n",
    "    # 为每个类别随机采样数据\n",
    "    all_class_set = []\n",
    "    for i in range(N):\n",
    "        size = total_each_class[i]\n",
    "        sub_data = data[label == i]\n",
    "        sub_label = label[label == i]\n",
    "\n",
    "        rand_indx = np.random.choice(len(sub_data), size=int(size), replace=False).astype(int)\n",
    "        sub2_data, sub2_label = sub_data[rand_indx], sub_label[rand_indx]\n",
    "        all_class_set.append((sub2_data, sub2_label))\n",
    "\n",
    "    index = [0] * N\n",
    "    clients, test = [], []\n",
    "\n",
    "    for m in range(prob.shape[0]):  # 遍历客户端\n",
    "        labels, images = [], []  # 训练数据\n",
    "        tlabels, timages = [], [] # 测试数据\n",
    "\n",
    "        for n in range(N):\n",
    "            # 80%用于训练，20%用于测试\n",
    "            # 这里的int向下取整，会导致实际的数据量比计算略小\n",
    "            start, end = index[n], index[n] + int(prob[m][n] * size_per_client * 0.8)\n",
    "            test_start, test_end = end, index[n] + int(prob[m][n] * size_per_client)\n",
    "\n",
    "            image, label = all_class_set[n][0][start:end], all_class_set[n][1][start:end]\n",
    "            test_image, test_label = all_class_set[n][0][test_start:test_end], all_class_set[n][1][test_start:test_end]\n",
    "\n",
    "            # 记录当前类别的数据分配进度\n",
    "            index[n] += int(prob[m][n] * size_per_client)\n",
    "\n",
    "            labels.extend(label)\n",
    "            images.extend(image)\n",
    "\n",
    "            tlabels.extend(test_label)\n",
    "            timages.extend(test_image)\n",
    "\n",
    "        clients.append((np.array(images), np.array(labels)))\n",
    "        test.append((np.array(timages), np.array(tlabels)))\n",
    "\n",
    "    return clients, test"
   ]
  },
  {
   "cell_type": "code",
   "execution_count": 36,
   "metadata": {},
   "outputs": [],
   "source": [
    "\n",
    "# 合并所有客户端的测试数据 （上面讲测试数据分成了不同的客户端）\n",
    "# 但并没有使用，用途不明\n",
    "def comb_client_test_func(client_test_data):\n",
    "    comb_client_test_image = []\n",
    "    comb_client_test_label = []\n",
    "    for i in range(client_num):\n",
    "        comb_client_test_image.extend(list(client_test_data[i][0]))\n",
    "        comb_client_test_label.extend(list(client_test_data[i][1]))\n",
    "    \n",
    "    # 将测试图片和标签合并为 numpy 数组\n",
    "    comb_client_test_image = np.array(comb_client_test_image)\n",
    "    comb_client_test_label = np.array(comb_client_test_label)\n",
    "    \n",
    "    label_count = Counter(comb_client_test_label)\n",
    "    print(\"测试集类别分布：\")\n",
    "    for label, count in sorted(label_count.items()):\n",
    "        print(f\"类别 {label}: {count} 个样本\")\n",
    "    \n",
    "    return [comb_client_test_image, comb_client_test_label]"
   ]
  },
  {
   "cell_type": "code",
   "execution_count": 37,
   "metadata": {},
   "outputs": [],
   "source": [
    "# 样服务器子集的函数\n",
    "def select_server_subset(cifar, percentage=0.1, mode='iid', dirichlet_alpha=1.0):\n",
    "    \"\"\"\n",
    "    从 cifar 数据集中挑选服务器数据子集（cifar 已经是 [N, C, H, W] 格式）。\n",
    "    \n",
    "    参数：\n",
    "      - cifar: 一个列表，格式为 [images, labels]，images 形状为 [N, C, H, W]\n",
    "      - percentage: 挑选比例，例如 0.1 表示取 10% 的数据\n",
    "      - mode: 'iid' 表示各类别均匀采样；'non-iid' 表示使用 Dirichlet 分布采样\n",
    "      - dirichlet_alpha: 当 mode 为 'non-iid' 时的 Dirichlet 分布参数\n",
    "    返回：\n",
    "      - subset_images: 选出的图片数组（numpy.array）\n",
    "      - subset_labels: 选出的标签数组（numpy.array）\n",
    "    \"\"\"\n",
    "    images, labels = cifar\n",
    "    unique_classes = np.unique(labels)\n",
    "    total_num = len(labels)\n",
    "    server_total = int(total_num * percentage)\n",
    "    \n",
    "    selected_indices = []\n",
    "    \n",
    "    if mode == 'iid':\n",
    "        for cls in unique_classes:\n",
    "            cls_indices = np.where(labels == cls)[0]\n",
    "            num_cls = int(len(cls_indices) * percentage)\n",
    "            if num_cls > len(cls_indices):\n",
    "                num_cls = len(cls_indices)\n",
    "            sampled = np.random.choice(cls_indices, size=num_cls, replace=False)\n",
    "            selected_indices.extend(sampled)\n",
    "    elif mode == 'non-iid':\n",
    "        num_classes = len(unique_classes)\n",
    "        prob = np.random.dirichlet(np.repeat(dirichlet_alpha, num_classes))\n",
    "        cls_sample_numbers = {}\n",
    "        total_assigned = 0\n",
    "        for i, cls in enumerate(unique_classes):\n",
    "            n_cls = int(prob[i] * server_total)\n",
    "            cls_sample_numbers[cls] = n_cls\n",
    "            total_assigned += n_cls\n",
    "        diff = server_total - total_assigned\n",
    "        if diff > 0:\n",
    "            for cls in np.random.choice(unique_classes, size=diff, replace=True):\n",
    "                cls_sample_numbers[cls] += 1\n",
    "        \n",
    "        for cls in unique_classes:\n",
    "            cls_indices = np.where(labels == cls)[0]\n",
    "            n_sample = cls_sample_numbers[cls]\n",
    "            if n_sample > len(cls_indices):\n",
    "                n_sample = len(cls_indices)\n",
    "            sampled = np.random.choice(cls_indices, size=n_sample, replace=False)\n",
    "            selected_indices.extend(sampled)\n",
    "    else:\n",
    "        raise ValueError(\"mode 参数必须为 'iid' 或 'non-iid'\")\n",
    "    \n",
    "    selected_indices = np.array(selected_indices)\n",
    "    np.random.shuffle(selected_indices)\n",
    "    \n",
    "    subset_images = images[selected_indices]\n",
    "    subset_labels = labels[selected_indices]\n",
    "    \n",
    "    return subset_images, subset_labels\n"
   ]
  },
  {
   "cell_type": "code",
   "execution_count": 38,
   "metadata": {},
   "outputs": [],
   "source": [
    "# 本地训练并更新权重，返回更新后的模型权重、平均训练损失以及第一个迭代的梯度信息\n",
    "def update_weights(model_weight, dataset, learning_rate, local_epoch):\n",
    "    if origin_model == 'resnet':\n",
    "        model = ResNet18_cifar10().to(device)\n",
    "    elif origin_model == \"lstm\":\n",
    "        model = CharLSTM().to(device)\n",
    "    elif origin_model == \"cnn\":\n",
    "        model = cnncifar().to(device)\n",
    "    \n",
    "    model.load_state_dict(model_weight)\n",
    "\n",
    "    model.train()\n",
    "    epoch_loss = []\n",
    "    optimizer = torch.optim.SGD(model.parameters(), lr=learning_rate, momentum=momentum, weight_decay=weight_decay)\n",
    "    criterion = nn.CrossEntropyLoss()\n",
    "\n",
    "    if origin_model == 'resnet' or origin_model == 'cnn':\n",
    "        Tensor_set = TensorDataset(torch.Tensor(dataset[0]).to(device), torch.Tensor(dataset[1]).to(device))\n",
    "    elif origin_model == 'lstm':\n",
    "        Tensor_set = TensorDataset(torch.LongTensor(dataset[0]).to(device), torch.Tensor(dataset[1]).to(device))\n",
    "    \n",
    "    data_loader = DataLoader(Tensor_set, batch_size=bc_size, shuffle=True)\n",
    "\n",
    "    first_iter_gradient = None  # 初始化变量来保存第一个iter的梯度\n",
    "\n",
    "    for iter in range(local_epoch):\n",
    "        batch_loss = []\n",
    "        for batch_idx, (images, labels) in enumerate(data_loader):\n",
    "            model.zero_grad()\n",
    "            outputs = model(images)\n",
    "            loss = criterion(outputs['output'], labels.long())\n",
    "            loss.backward()\n",
    "            optimizer.step()\n",
    "            batch_loss.append(loss.item()/images.shape[0])\n",
    "\n",
    "            # 保存第一个iter的梯度\n",
    "            if iter == 0 and batch_idx == 0:\n",
    "                first_iter_gradient = {}\n",
    "                for name, param in model.named_parameters():\n",
    "                    first_iter_gradient[name] = param.grad.clone()\n",
    "                # 保存 BatchNorm 层的 running mean 和 running variance\n",
    "                for name, module in model.named_modules():\n",
    "                    if isinstance(module, nn.BatchNorm2d):\n",
    "                        first_iter_gradient[name + '.running_mean'] = module.running_mean.clone()\n",
    "                        first_iter_gradient[name + '.running_var'] = module.running_var.clone()\n",
    "\n",
    "        epoch_loss.append(sum(batch_loss)/len(batch_loss))\n",
    "\n",
    "    return model.state_dict(), sum(epoch_loss) / len(epoch_loss), first_iter_gradient\n"
   ]
  },
  {
   "cell_type": "code",
   "execution_count": 39,
   "metadata": {},
   "outputs": [],
   "source": [
    "# 计算模型权重的差异，并根据学习率 lr 对权重差异进行缩放\n",
    "def weight_differences(n_w, p_w, lr):\n",
    "    w_diff = copy.deepcopy(n_w)\n",
    "    for key in w_diff.keys():\n",
    "        if 'num_batches_tracked' in key:\n",
    "            continue\n",
    "        w_diff[key] = (p_w[key] - n_w[key]) * lr\n",
    "    return w_diff"
   ]
  },
  {
   "cell_type": "code",
   "execution_count": 40,
   "metadata": {},
   "outputs": [],
   "source": [
    "# 也是本地训练，不过引入了Fed-C的权重修正机制\n",
    "def update_weights_correction(model_weight, dataset, learning_rate, local_epoch, c_i, c_s):\n",
    "    if origin_model == 'resnet':\n",
    "        model = ResNet18_cifar10().to(device)\n",
    "    elif origin_model == \"lstm\":\n",
    "        model = CharLSTM().to(device)\n",
    "    elif origin_model == \"cnn\":\n",
    "        model = cnncifar().to(device)\n",
    "        \n",
    "    model.load_state_dict(model_weight)\n",
    "\n",
    "    model.train()\n",
    "    epoch_loss = []\n",
    "    optimizer = torch.optim.SGD(model.parameters(), lr=learning_rate, momentum=momentum, weight_decay=weight_decay)\n",
    "    criterion = nn.CrossEntropyLoss()\n",
    "\n",
    "    if origin_model == 'resnet' or origin_model == 'cnn':\n",
    "        Tensor_set = TensorDataset(torch.Tensor(dataset[0]).to(device), torch.Tensor(dataset[1]).to(device))\n",
    "    elif origin_model == 'lstm':\n",
    "        Tensor_set = TensorDataset(torch.LongTensor(dataset[0]).to(device), torch.Tensor(dataset[1]).to(device))\n",
    "        \n",
    "    data_loader = DataLoader(Tensor_set, batch_size=bc_size, shuffle=True)\n",
    "\n",
    "    for iter in range(local_epoch):\n",
    "        batch_loss = []\n",
    "        for batch_idx, (images, labels) in enumerate(data_loader):\n",
    "            model.zero_grad()\n",
    "            outputs = model(images)\n",
    "            loss = criterion(outputs['output'], labels.long())\n",
    "            loss.backward()\n",
    "            optimizer.step()\n",
    "            batch_loss.append(loss.sum().item()/images.shape[0])\n",
    "        epoch_loss.append(sum(batch_loss)/len(batch_loss))\n",
    "        corrected_graident = weight_differences(c_i, c_s, learning_rate)\n",
    "        orginal_model_weight = model.state_dict()\n",
    "        corrected_model_weight = weight_differences(corrected_graident, orginal_model_weight, 1)  # 这里缩放权重为1\n",
    "        model.load_state_dict(corrected_model_weight)\n",
    "\n",
    "    return model.state_dict(),  sum(epoch_loss) / len(epoch_loss)"
   ]
  },
  {
   "cell_type": "code",
   "execution_count": 41,
   "metadata": {},
   "outputs": [],
   "source": [
    "def average_weights(w):\n",
    "    \"\"\"\n",
    "    Returns the average of the weights.\n",
    "    \"\"\"\n",
    "    w_avg = copy.deepcopy(w[0])\n",
    "    for key in w_avg.keys():\n",
    "        if 'num_batches_tracked' in key:\n",
    "            continue\n",
    "        for i in range(1, len(w)):\n",
    "            w_avg[key] += w[i][key]\n",
    "        w_avg[key] = torch.div(w_avg[key], len(w))\n",
    "    return w_avg"
   ]
  },
  {
   "cell_type": "code",
   "execution_count": 42,
   "metadata": {},
   "outputs": [],
   "source": [
    "# baseline: server-only\n",
    "def server_only(initial_w, global_round, gamma, E):\n",
    "    if origin_model == 'resnet':\n",
    "        test_model = ResNet18_cifar10().to(device)\n",
    "    elif origin_model == \"lstm\":\n",
    "        test_model = CharLSTM().to(device)\n",
    "    elif origin_model == \"cnn\":\n",
    "        test_model = cnncifar().to(device)\n",
    "        \n",
    "    train_w = copy.deepcopy(initial_w)\n",
    "    test_acc = []\n",
    "    train_loss = []\n",
    "    \n",
    "    \n",
    "    for round in tqdm(range(global_round)):\n",
    "        # if gamma > 0.001:\n",
    "        #     gamma = gamma * 0.99\n",
    "        # Server side local training\n",
    "\n",
    "                \n",
    "        update_server_w, round_loss, _ = update_weights(train_w, server_data, gamma, E)\n",
    "        train_w = update_server_w\n",
    "        test_model.load_state_dict(train_w)\n",
    "        train_loss.append(round_loss)\n",
    "        \n",
    "        # 新的测试（针对全部测试数据进行）\n",
    "        test_acc.append(test_inference(test_model, test_dataset))\n",
    "    \n",
    "        # Test Accuracy\n",
    "        # test_a = 0\n",
    "        # for i in client_test_data:\n",
    "        #     ac = test_inference(test_model,i)[0]\n",
    "        #     test_a = test_a + ac\n",
    "        # test_a = test_a/len(client_test_data)\n",
    "        # test_acc.append(test_a)\n",
    "        # print(test_a)\n",
    "    return test_acc, train_loss"
   ]
  },
  {
   "cell_type": "code",
   "execution_count": 43,
   "metadata": {},
   "outputs": [],
   "source": [
    "def fedavg(initial_w, global_round, eta, K, M):\n",
    "    if origin_model == 'resnet':\n",
    "        test_model = ResNet18_cifar10().to(device)\n",
    "    elif origin_model == \"lstm\":\n",
    "        test_model = CharLSTM().to(device)\n",
    "    elif origin_model == \"cnn\":\n",
    "        test_model = cnncifar().to(device)\n",
    "        \n",
    "    train_w = copy.deepcopy(initial_w)\n",
    "    test_acc = []\n",
    "    train_loss = []\n",
    "    for round in tqdm(range(global_round)):\n",
    "        local_weights, local_loss = [], []\n",
    "        # Client side local training\n",
    "        # if eta > 0.001:\n",
    "        #     eta = eta * 0.99\n",
    "        sampled_client = random.sample(range(client_num), M)\n",
    "        for i in sampled_client:\n",
    "            update_client_w, client_round_loss, _ = update_weights(train_w, client_data[i], eta, K)\n",
    "            local_weights.append(update_client_w)\n",
    "            local_loss.append(client_round_loss)\n",
    "\n",
    "        train_w = average_weights(local_weights)\n",
    "\n",
    "        # Test Accuracy\n",
    "        test_model.load_state_dict(train_w)\n",
    "        loss_avg = sum(local_loss)/ len(local_loss)\n",
    "        train_loss.append(loss_avg)\n",
    "        \n",
    "        # 新的测试（针对全部测试数据进行）\n",
    "        test_acc.append(test_inference(test_model, test_dataset))\n",
    "            \n",
    "        # test_a = 0\n",
    "        # for i in client_test_data:\n",
    "        #     ac = test_inference(test_model,i)[0]\n",
    "        #     test_a = test_a + ac\n",
    "        # test_a = test_a/len(client_test_data)\n",
    "        # test_acc.append(test_a)\n",
    "#         print(test_a)\n",
    "    return test_acc, train_loss\n"
   ]
  },
  {
   "cell_type": "code",
   "execution_count": 44,
   "metadata": {},
   "outputs": [],
   "source": [
    "def hybridFL(initial_w, global_round, eta, K, M):\n",
    "    \"\"\"\n",
    "    HybridFL算法：FedAvg改进，服务器也作为一个普通客户端参与训练。\n",
    "    \n",
    "    参数:\n",
    "    - initial_w: 初始模型权重\n",
    "    - global_round: 全局训练轮数\n",
    "    - eta: 学习率\n",
    "    - K: 本地训练轮数\n",
    "    - M: 每轮采样的客户端数量\n",
    "    \"\"\"\n",
    "    \n",
    "    if origin_model == 'resnet':\n",
    "        test_model = ResNet18_cifar10().to(device)\n",
    "    elif origin_model == \"lstm\":\n",
    "        test_model = CharLSTM().to(device)\n",
    "    elif origin_model == \"cnn\":\n",
    "        test_model = cnncifar().to(device)\n",
    "        \n",
    "    train_w = copy.deepcopy(initial_w)     # 当前全局权重\n",
    "    test_acc = []                          # 保存每轮测试精度\n",
    "    train_loss = []                        # 保存每轮训练损失\n",
    "    \n",
    "    for round in tqdm(range(global_round)):\n",
    "        local_weights, local_loss = [], []  # 存储每个客户端/服务器的权重和损失\n",
    "\n",
    "        # 随机采样 M 个客户端\n",
    "        sampled_client = random.sample(range(client_num), M)\n",
    "\n",
    "        # 客户端本地训练\n",
    "        for i in sampled_client:\n",
    "            update_client_w, client_round_loss, _ = update_weights(train_w, client_data[i], eta, K)\n",
    "            local_weights.append(update_client_w)\n",
    "            local_loss.append(client_round_loss)\n",
    "\n",
    "        # 服务器参与训练\n",
    "        update_server_w, server_round_loss, _ = update_weights(train_w, server_data, eta, K)\n",
    "        local_weights.append(update_server_w)   # 将服务器权重加入列表\n",
    "        local_loss.append(server_round_loss)    # 将服务器损失加入列表\n",
    "\n",
    "        # 权重聚合\n",
    "        train_w = average_weights(local_weights)\n",
    "\n",
    "        # 评估模型性能\n",
    "        test_model.load_state_dict(train_w)\n",
    "        loss_avg = sum(local_loss) / len(local_loss)\n",
    "        train_loss.append(loss_avg)\n",
    "\n",
    "        # 新的测试（针对全部测试数据进行）\n",
    "        test_acc.append(test_inference(test_model, test_dataset))\n",
    "    \n",
    "        \n",
    "        # test_a = 0\n",
    "        # for i in client_test_data:  # 遍历所有客户端测试数据\n",
    "        #     ac = test_inference(test_model, i)[0]\n",
    "        #     test_a += ac\n",
    "        # test_a = test_a / len(client_test_data)\n",
    "        # test_acc.append(test_a)\n",
    "        \n",
    "        # # 打印每轮的结果\n",
    "        # print(f\"Round {round + 1}: Test Accuracy = {test_a:.4f}, Train Loss = {loss_avg:.4f}\")\n",
    "    \n",
    "    return test_acc, train_loss\n"
   ]
  },
  {
   "cell_type": "code",
   "execution_count": 45,
   "metadata": {},
   "outputs": [],
   "source": [
    "def CLG_SGD(initial_w, global_round, eta, gamma, K, E, M):\n",
    "    if origin_model == 'resnet':\n",
    "        test_model = ResNet18_cifar10().to(device)\n",
    "    elif origin_model == \"lstm\":\n",
    "        test_model = CharLSTM().to(device)\n",
    "    elif origin_model == \"cnn\":\n",
    "        test_model = cnncifar().to(device)\n",
    "        \n",
    "    train_w = copy.deepcopy(initial_w)\n",
    "    test_acc = []\n",
    "    train_loss = []\n",
    "    \n",
    "    for round in tqdm(range(global_round)):\n",
    "        # 学习率衰减，这里默认注释掉了\n",
    "        # if eta > 0.001:\n",
    "        #     eta = eta * 0.99\n",
    "        # if gamma > 0.001:\n",
    "        #     gamma = gamma * 0.99\n",
    "        local_weights, local_loss = [], []\n",
    "        # Client side local training\n",
    "        # 从总共client_num客户端中选择M个训练\n",
    "        sampled_client = random.sample(range(client_num), M)\n",
    "        for i in sampled_client:\n",
    "            update_client_w, client_round_loss, _ = update_weights(train_w, client_data[i], eta, K)\n",
    "            local_weights.append(update_client_w)\n",
    "            local_loss.append(client_round_loss)\n",
    "        train_w = average_weights(local_weights)\n",
    "        # Server side local training\n",
    "    \n",
    "        \n",
    "        update_server_w, round_loss, _ = update_weights(train_w, server_data, gamma, E)\n",
    "        train_w = update_server_w\n",
    "        local_loss.append(round_loss)\n",
    "\n",
    "        # Test Accuracy\n",
    "        test_model.load_state_dict(train_w)\n",
    "        loss_avg = sum(local_loss)/ len(local_loss)\n",
    "        train_loss.append(loss_avg)   # 计算所有客户端和服务器一起的平均损失\n",
    "\n",
    "        # 新的测试（针对全部测试数据进行）\n",
    "        test_acc.append(test_inference(test_model, test_dataset))\n",
    "    \n",
    "        # test_a = 0\n",
    "        # # 遍历客户端测试数据，计算平均准确率\n",
    "        # for i in client_test_data:\n",
    "        #     ac = test_inference(test_model,i)[0]\n",
    "        #     test_a = test_a + ac\n",
    "        # test_a = test_a/len(client_test_data)\n",
    "        # test_acc.append(test_a)\n",
    "#         print(test_a)\n",
    "    return test_acc, train_loss"
   ]
  },
  {
   "cell_type": "code",
   "execution_count": 46,
   "metadata": {},
   "outputs": [],
   "source": [
    "# 原始复现FedDU的代码\n",
    "# def calculate_server_gradient(model, server_data, batch_size, num_iterations):\n",
    "#     \"\"\"\n",
    "#     直接计算服务器数据上的梯度（对应论文公式6）\n",
    "    \n",
    "#     参数:\n",
    "#     - model: 当前聚合模型\n",
    "#     - server_data: 服务器数据 [images, labels]\n",
    "#     - batch_size: 批次大小\n",
    "#     - num_iterations: 服务器梯度估计的迭代次数\n",
    "    \n",
    "#     返回:\n",
    "#     - 平均梯度字典\n",
    "#     \"\"\"\n",
    "#     model.train()\n",
    "#     criterion = nn.CrossEntropyLoss()\n",
    "    \n",
    "#     # 使用多个batch来估计平均梯度\n",
    "#     gradients = []\n",
    "    \n",
    "#     # 创建数据加载器\n",
    "#     if origin_model == 'resnet' or origin_model == 'cnn':\n",
    "#         dataset = TensorDataset(torch.Tensor(server_data[0]).to(device), \n",
    "#                                torch.Tensor(server_data[1]).long().to(device))\n",
    "#     elif origin_model == 'lstm':\n",
    "#         dataset = TensorDataset(torch.LongTensor(server_data[0]).to(device), \n",
    "#                                torch.Tensor(server_data[1]).to(device))\n",
    "        \n",
    "#     data_loader = DataLoader(dataset, batch_size=batch_size, shuffle=True)\n",
    "    \n",
    "#     # 限制迭代次数，避免过多计算\n",
    "#     actual_iterations = min(num_iterations, len(data_loader))\n",
    "    \n",
    "#     for i, (images, labels) in enumerate(data_loader):\n",
    "#         if i >= actual_iterations:\n",
    "#             break\n",
    "            \n",
    "#         # 前向传播\n",
    "#         model.zero_grad()\n",
    "#         outputs = model(images)['output']\n",
    "#         loss = criterion(outputs, labels)\n",
    "#         loss.backward()\n",
    "        \n",
    "#         # 保存当前批次的梯度\n",
    "#         batch_grad = {}\n",
    "#         for name, param in model.named_parameters():\n",
    "#             if param.grad is not None and 'num_batches_tracked' not in name:\n",
    "#                 batch_grad[name] = param.grad.clone()\n",
    "        \n",
    "#         gradients.append(batch_grad)\n",
    "    \n",
    "#     # 计算平均梯度\n",
    "#     avg_grad = {}\n",
    "#     if len(gradients) > 0:\n",
    "#         for name in gradients[0].keys():\n",
    "#             avg_grad[name] = sum(grad[name] for grad in gradients) / len(gradients)\n",
    "    \n",
    "#     return avg_grad\n",
    "\n",
    "\n",
    "# def f_prime_acc_function(acc):\n",
    "#     \"\"\"\n",
    "#     基于准确率的动态函数，对应论文公式7中的f'(acc)\n",
    "#     随着准确率提高，函数值平滑降低\n",
    "#     \"\"\"\n",
    "#     return 1-acc # 确保更平滑的衰减\n",
    "\n",
    "\n",
    "# def calculate_js_divergence(P1, P2):\n",
    "#     \"\"\"\n",
    "#     计算两个分布之间的Jensen-Shannon散度，对应论文公式2和3\n",
    "    \n",
    "#     参数:\n",
    "#     - P1, P2: 字典，键为类别标签，值为概率\n",
    "    \n",
    "#     返回:\n",
    "#     - JS散度值\n",
    "#     \"\"\"\n",
    "#     # 创建所有类别的集合\n",
    "#     all_classes = set(P1.keys()).union(set(P2.keys()))\n",
    "    \n",
    "#     # 计算中点分布M\n",
    "#     M = {}\n",
    "#     for cls in all_classes:\n",
    "#         M[cls] = (P1.get(cls, 0) + P2.get(cls, 0)) / 2\n",
    "    \n",
    "#     # 计算KL(P1||M)\n",
    "#     kl_p1_m = 0\n",
    "#     epsilon = 1e-10  # 避免log(0)\n",
    "#     for cls in all_classes:\n",
    "#         p1 = P1.get(cls, 0)\n",
    "#         if p1 > 0:\n",
    "#             m = max(M[cls], epsilon)\n",
    "#             kl_p1_m += p1 * np.log(p1 / m)\n",
    "    \n",
    "#     # 计算KL(P2||M)\n",
    "#     kl_p2_m = 0\n",
    "#     for cls in all_classes:\n",
    "#         p2 = P2.get(cls, 0)\n",
    "#         if p2 > 0:\n",
    "#             m = max(M[cls], epsilon)\n",
    "#             kl_p2_m += p2 * np.log(p2 / m)\n",
    "    \n",
    "#     # JS(P1||P2) = (KL(P1||M) + KL(P2||M)) / 2\n",
    "#     js = (kl_p1_m + kl_p2_m) / 2\n",
    "#     return js\n",
    "\n",
    "\n",
    "# def FedDU(initial_w, global_round, eta, gamma, K, E, M):\n",
    "#     \"\"\"\n",
    "#     Federated Dynamic Update算法的改进实现\n",
    "    \n",
    "#     参数:\n",
    "#     - initial_w: 初始模型权重\n",
    "#     - global_round: 全局训练轮数\n",
    "#     - eta: 客户端学习率\n",
    "#     - gamma: 服务器学习率\n",
    "#     - K: 客户端本地训练轮数\n",
    "#     - E: 服务器本地训练轮数\n",
    "#     - M: 每轮选择的客户端数量\n",
    "#     \"\"\"\n",
    "#     if origin_model == 'resnet':\n",
    "#         test_model = ResNet18_cifar10().to(device)\n",
    "#     elif origin_model == \"lstm\":\n",
    "#         test_model = CharLSTM().to(device)\n",
    "#     elif origin_model == \"cnn\":\n",
    "#         test_model = cnncifar().to(device)\n",
    "\n",
    "#     # 初始化模型权重\n",
    "#     train_w = copy.deepcopy(initial_w)\n",
    "#     test_model.load_state_dict(train_w)\n",
    "    \n",
    "#     # 结果记录\n",
    "#     test_acc = []\n",
    "#     train_loss = []\n",
    "    \n",
    "#     # 获取服务器数据信息\n",
    "#     server_labels = np.array(server_data[1])\n",
    "#     n_0 = len(server_labels)\n",
    "    \n",
    "#     # 收集所有客户端数据标签以计算全局分布\n",
    "#     all_client_labels = []\n",
    "#     for i in range(client_num):\n",
    "#         all_client_labels.extend(client_data[i][1])\n",
    "#     all_client_labels = np.array(all_client_labels)\n",
    "    \n",
    "#     # 获取所有数据中的唯一类别\n",
    "#     unique_classes = np.unique(np.concatenate((server_labels, all_client_labels)))\n",
    "    \n",
    "#     # 计算全局分布P\n",
    "#     P = {}\n",
    "#     for cls in unique_classes:\n",
    "#         P[cls] = np.sum(all_client_labels == cls) / len(all_client_labels)\n",
    "    \n",
    "#     # 计算服务器分布P_0\n",
    "#     P_0 = {}\n",
    "#     for cls in unique_classes:\n",
    "#         P_0[cls] = np.sum(server_labels == cls) / n_0 if n_0 > 0 else 0\n",
    "    \n",
    "#     # 计算服务器数据的非IID程度\n",
    "#     D_P_0 = calculate_js_divergence(P_0, P)\n",
    "    \n",
    "#     # 步长计算的超参数\n",
    "#     C = 1  \n",
    "#     decay_rate = 0.99\n",
    "#     batch_size = bc_size\n",
    "    \n",
    "#     # 输出初始设置\n",
    "#     print(\"FedDU初始设置:\")\n",
    "#     print(f\"  服务器数据量: {n_0}\")\n",
    "#     print(f\"  服务器数据非IID度: {D_P_0:.6f}\")\n",
    "#     print(f\"  C参数: {C}\")\n",
    "#     print(f\"  衰减率: {decay_rate}\")\n",
    "        \n",
    "#     for round in tqdm(range(global_round)):\n",
    "#         local_weights, local_loss = [], []\n",
    "        \n",
    "#         # 随机选择M个客户端\n",
    "#         sampled_clients = random.sample(range(client_num), M)\n",
    "        \n",
    "#         # 客户端本地训练\n",
    "#         for i in sampled_clients:\n",
    "#             update_client_w, client_round_loss, _ = update_weights(train_w, client_data[i], eta, K)\n",
    "#             local_weights.append(update_client_w)\n",
    "#             local_loss.append(client_round_loss)\n",
    "        \n",
    "#         # 聚合客户端模型，得到w^(t-1/2)\n",
    "#         w_t_half = average_weights(local_weights)\n",
    "        \n",
    "#         # 计算选定客户端数据的分布P'_t\n",
    "#         selected_client_labels = []\n",
    "#         for i in sampled_clients:\n",
    "#             selected_client_labels.extend(client_data[i][1])\n",
    "#         selected_client_labels = np.array(selected_client_labels)\n",
    "#         n_prime = len(selected_client_labels)\n",
    "        \n",
    "#         P_t_prime = {}\n",
    "#         for cls in unique_classes:\n",
    "#             P_t_prime[cls] = np.sum(selected_client_labels == cls) / n_prime if n_prime > 0 else 0\n",
    "        \n",
    "#         # 计算选定客户端数据的非IID程度\n",
    "#         D_P_t_prime = calculate_js_divergence(P_t_prime, P)\n",
    "        \n",
    "#         # 评估聚合模型w^(t-1/2)的准确率\n",
    "#         test_model.load_state_dict(w_t_half)\n",
    "#         acc_t = test_inference(test_model, test_dataset) / 100.0  # 转换为[0,1]比例\n",
    "        \n",
    "#         # 计算f'(acc) - 基于准确率的递减函数\n",
    "#         f_prime_acc = f_prime_acc_function(acc_t)\n",
    "        \n",
    "#         # 计算τ (服务器更新的迭代次数)\n",
    "#         tau = max(1, math.ceil((n_0 * E) / batch_size))\n",
    "        \n",
    "        \n",
    "#         # 计算有效步长τ_eff\n",
    "#         epsilon = 1e-10  # 避免除零\n",
    "#         ratio = (n_0 * D_P_t_prime) / (n_0 * D_P_t_prime + n_prime * D_P_0 + epsilon)\n",
    "#         tau_eff = max(0.01, f_prime_acc * ratio * C * (decay_rate ** round) * tau)  # 设置最小步长\n",
    "        \n",
    "#         # 直接计算服务器梯度\n",
    "#         test_model.load_state_dict(w_t_half)\n",
    "#         server_grad = calculate_server_gradient(test_model, server_data, batch_size, tau)\n",
    "        \n",
    "#         # 服务器也执行标准更新，用于评估\n",
    "#         server_update_w, round_loss, _ = update_weights(copy.deepcopy(w_t_half), server_data, gamma, E)\n",
    "#         local_loss.append(round_loss)\n",
    "        \n",
    "#         # 应用公式(4)进行更新：w^t = w^(t-1/2) - τ_eff * η * g_0(w^(t-1/2))\n",
    "#         train_w = copy.deepcopy(w_t_half)\n",
    "#         for key in server_grad.keys():\n",
    "#             if server_grad[key] is not None:  # 确保梯度存在\n",
    "#                 train_w[key] = w_t_half[key] - tau_eff * gamma * server_grad[key]\n",
    "        \n",
    "#         # 定期打印调试信息\n",
    "#         if round % 5 == 0 or round == global_round - 1:\n",
    "#             grad_norm = np.sqrt(sum(torch.norm(g).item()**2 for g in server_grad.values() if g is not None))\n",
    "#             print(f\"\\nRound {round} 详情:\")\n",
    "#             print(f\"  准确率: {acc_t*100:.2f}%\")\n",
    "#             print(f\"  f'(acc): {f_prime_acc:.4f}\")\n",
    "#             print(f\"  D(P'_t): {D_P_t_prime:.6f}\")\n",
    "#             print(f\"  D(P_0): {D_P_0:.6f}\")\n",
    "#             print(f\"  比率: {ratio:.4f}\")\n",
    "#             print(f\"  τ_eff: {tau_eff:.4f}\")\n",
    "#             print(f\"  梯度范数: {grad_norm:.6f}\")\n",
    "#             print(f\"  服务器更新迭代次数: {tau}\")\n",
    "        \n",
    "#         # 评估模型\n",
    "#         test_model.load_state_dict(train_w)\n",
    "#         loss_avg = sum(local_loss) / len(local_loss)\n",
    "#         train_loss.append(loss_avg)\n",
    "        \n",
    "#         # 在所有测试数据上测试\n",
    "#         current_acc = test_inference(test_model, test_dataset)\n",
    "#         test_acc.append(current_acc)\n",
    "        \n",
    "#         if round % 10 == 0:\n",
    "#             print(f\"Round {round}, Test Accuracy: {current_acc:.2f}%, Train Loss: {loss_avg:.4f}\")\n",
    "    \n",
    "#     return test_acc, train_loss"
   ]
  },
  {
   "cell_type": "code",
   "execution_count": null,
   "metadata": {},
   "outputs": [],
   "source": [
    "def calculate_js_divergence(P1, P2):\n",
    "    \"\"\"\n",
    "    计算两个分布之间的Jensen-Shannon散度，对应论文公式2和3\n",
    "    \n",
    "    参数:\n",
    "    - P1, P2: 字典，键为类别标签，值为概率\n",
    "    \n",
    "    返回:\n",
    "    - JS散度值\n",
    "    \"\"\"\n",
    "    # 创建所有类别的集合\n",
    "    all_classes = set(P1.keys()).union(set(P2.keys()))\n",
    "    \n",
    "    # 计算中点分布M\n",
    "    M = {}\n",
    "    for cls in all_classes:\n",
    "        M[cls] = (P1.get(cls, 0) + P2.get(cls, 0)) / 2\n",
    "    \n",
    "    # 计算KL(P1||M)\n",
    "    kl_p1_m = 0\n",
    "    epsilon = 1e-10  # 避免log(0)\n",
    "    for cls in all_classes:\n",
    "        p1 = P1.get(cls, 0)\n",
    "        if p1 > 0:\n",
    "            m = max(M[cls], epsilon)\n",
    "            kl_p1_m += p1 * np.log(p1 / m)\n",
    "    \n",
    "    # 计算KL(P2||M)\n",
    "    kl_p2_m = 0\n",
    "    for cls in all_classes:\n",
    "        p2 = P2.get(cls, 0)\n",
    "        if p2 > 0:\n",
    "            m = max(M[cls], epsilon)\n",
    "            kl_p2_m += p2 * np.log(p2 / m)\n",
    "    \n",
    "    # JS(P1||P2) = (KL(P1||M) + KL(P2||M)) / 2\n",
    "    js = (kl_p1_m + kl_p2_m) / 2\n",
    "    return js\n",
    "\n",
    "\n",
    "def f_prime_acc_function(acc, mode='linear'):\n",
    "    \"\"\"\n",
    "    基于准确率的动态函数，平滑版本\n",
    "    \n",
    "    参数:\n",
    "    - acc: 当前准确率，范围[0,1]\n",
    "    - mode: 函数模式，可选'linear', 'smooth', 'exp'\n",
    "    \n",
    "    返回:\n",
    "    - 函数值，随着准确率提高而平滑降低\n",
    "    \"\"\"\n",
    "    if mode == 'linear':\n",
    "        return 1-acc\n",
    "    elif mode == 'smooth':\n",
    "        # 使用sigmoid函数创建更平滑的曲线\n",
    "        # 当准确率低时接近1，准确率高时接近0\n",
    "        return 2 / (1 + np.exp(5 * acc)) - 0.2  # 范围约为[0.8, 0]\n",
    "    elif mode == 'exp':\n",
    "        # 指数衰减，高准确率时衰减更快\n",
    "        return np.exp(-3 * acc)\n",
    "    else:\n",
    "        return 1-acc\n",
    "\n",
    "\n",
    "def clip_gradients(gradients, max_norm=5.0):\n",
    "    \"\"\"\n",
    "    梯度裁剪函数，防止梯度爆炸\n",
    "    \n",
    "    参数:\n",
    "    - gradients: 梯度字典\n",
    "    - max_norm: 最大梯度范数\n",
    "    \n",
    "    返回:\n",
    "    - 裁剪后的梯度字典\n",
    "    \"\"\"\n",
    "    total_norm = 0\n",
    "    for name, grad in gradients.items():\n",
    "        if grad is not None:\n",
    "            param_norm = grad.data.norm(2)\n",
    "            total_norm += param_norm.item() ** 2\n",
    "    total_norm = total_norm ** 0.5\n",
    "    \n",
    "    clip_coef = max_norm / (total_norm + 1e-6)\n",
    "    if clip_coef < 1:\n",
    "        for name, grad in gradients.items():\n",
    "            if grad is not None:\n",
    "                grad.data.mul_(clip_coef)\n",
    "    return gradients\n",
    "\n",
    "\n",
    "def calculate_server_gradient(model, server_data, batch_size, num_iterations):\n",
    "    \"\"\"\n",
    "    直接计算服务器数据上的梯度（对应论文公式6），增强版\n",
    "    \n",
    "    参数:\n",
    "    - model: 当前聚合模型\n",
    "    - server_data: 服务器数据 [images, labels]\n",
    "    - batch_size: 批次大小\n",
    "    - num_iterations: 服务器梯度估计的迭代次数\n",
    "    \n",
    "    返回:\n",
    "    - 平均梯度字典\n",
    "    \"\"\"\n",
    "    model.train()\n",
    "    criterion = nn.CrossEntropyLoss()\n",
    "    \n",
    "    adjusted_batch_size = min(batch_size, len(server_data[0]))\n",
    "    \n",
    "    # 创建数据加载器\n",
    "    if origin_model == 'resnet' or origin_model == 'cnn':\n",
    "        dataset = TensorDataset(torch.Tensor(server_data[0]).to(device), \n",
    "                               torch.Tensor(server_data[1]).long().to(device))\n",
    "    elif origin_model == 'lstm':\n",
    "        dataset = TensorDataset(torch.LongTensor(server_data[0]).to(device), \n",
    "                               torch.Tensor(server_data[1]).to(device))\n",
    "        \n",
    "    data_loader = DataLoader(dataset, batch_size=adjusted_batch_size, shuffle=True)\n",
    "    \n",
    "    # 增加迭代次数，保证最少3次迭代以获得更稳定的梯度估计\n",
    "    actual_iterations = min(max(3, num_iterations), len(data_loader))\n",
    "    \n",
    "    gradients = []\n",
    "    \n",
    "    for i, (images, labels) in enumerate(data_loader):\n",
    "        if i >= actual_iterations:\n",
    "            break\n",
    "            \n",
    "        # 前向传播\n",
    "        model.zero_grad()\n",
    "        outputs = model(images)['output']\n",
    "        loss = criterion(outputs, labels)\n",
    "        loss.backward()\n",
    "        \n",
    "        # 保存当前批次的梯度\n",
    "        batch_grad = {}\n",
    "        for name, param in model.named_parameters():\n",
    "            if param.grad is not None and 'num_batches_tracked' not in name:\n",
    "                batch_grad[name] = param.grad.clone()\n",
    "        \n",
    "        gradients.append(batch_grad)\n",
    "    \n",
    "    # 计算平均梯度\n",
    "    avg_grad = {}\n",
    "    if len(gradients) > 0:\n",
    "        for name in gradients[0].keys():\n",
    "            avg_grad[name] = sum(grad[name] for grad in gradients) / len(gradients)\n",
    "    \n",
    "    # 应用梯度裁剪以增强稳定性\n",
    "    return clip_gradients(avg_grad, max_norm=5.0)\n",
    "\n",
    "\n",
    "def FedDU_modify(initial_w, global_round, eta, gamma, K, E, M):\n",
    "    \"\"\"\n",
    "    Federated Dynamic Update算法的改进实现\n",
    "    \n",
    "    参数:\n",
    "    - initial_w: 初始模型权重\n",
    "    - global_round: 全局训练轮数\n",
    "    - eta: 客户端学习率\n",
    "    - gamma: 服务器学习率\n",
    "    - K: 客户端本地训练轮数\n",
    "    - E: 服务器本地训练轮数\n",
    "    - M: 每轮选择的客户端数量\n",
    "    \"\"\"\n",
    "    if origin_model == 'resnet':\n",
    "        test_model = ResNet18_cifar10().to(device)\n",
    "    elif origin_model == \"lstm\":\n",
    "        test_model = CharLSTM().to(device)\n",
    "    elif origin_model == \"cnn\":\n",
    "        test_model = cnncifar().to(device)\n",
    "\n",
    "    # 初始化模型权重\n",
    "    train_w = copy.deepcopy(initial_w)\n",
    "    test_model.load_state_dict(train_w)\n",
    "    \n",
    "    # 结果记录\n",
    "    test_acc = []\n",
    "    train_loss = []\n",
    "    \n",
    "    # 性能诊断指标记录\n",
    "    tau_eff_history = []\n",
    "    ratio_history = []\n",
    "    f_prime_acc_history = []\n",
    "    grad_norm_history = []\n",
    "    \n",
    "    C = FedDU_C\n",
    "    \n",
    "    # 获取服务器数据信息\n",
    "    server_labels = np.array(server_data[1])\n",
    "    n_0 = len(server_labels)\n",
    "    \n",
    "    # 收集所有客户端数据标签以计算全局分布\n",
    "    all_client_labels = []\n",
    "    for i in range(client_num):\n",
    "        all_client_labels.extend(client_data[i][1])\n",
    "    all_client_labels = np.array(all_client_labels)\n",
    "    \n",
    "    # 获取所有数据中的唯一类别\n",
    "    unique_classes = np.unique(np.concatenate((server_labels, all_client_labels)))\n",
    "    \n",
    "    # 计算全局分布P\n",
    "    P = {}\n",
    "    for cls in unique_classes:\n",
    "        P[cls] = np.sum(all_client_labels == cls) / len(all_client_labels)\n",
    "    \n",
    "    # 计算服务器分布P_0\n",
    "    P_0 = {}\n",
    "    for cls in unique_classes:\n",
    "        P_0[cls] = np.sum(server_labels == cls) / n_0 if n_0 > 0 else 0\n",
    "    \n",
    "    # 计算服务器数据的非IID程度\n",
    "    D_P_0 = calculate_js_divergence(P_0, P)\n",
    "    \n",
    "    # 输出初始设置\n",
    "    print(\"FedDU初始设置:\")\n",
    "    print(f\"  服务器数据量: {n_0}\")\n",
    "    print(f\"  服务器数据非IID度: {D_P_0:.6f}\")\n",
    "    print(f\"  C参数: {C}\")\n",
    "    print(f\"  衰减率: {decay_rate}\")\n",
    "    \n",
    "\n",
    "        \n",
    "    for round in tqdm(range(global_round)):\n",
    "        local_weights, local_loss = [], []\n",
    "        \n",
    "        current_gamma = gamma\n",
    "        \n",
    "        # 随机选择M个客户端\n",
    "        sampled_clients = random.sample(range(client_num), M)\n",
    "        \n",
    "        # 客户端本地训练\n",
    "        for i in sampled_clients:\n",
    "            update_client_w, client_round_loss, _ = update_weights(train_w, client_data[i], eta, K)\n",
    "            local_weights.append(update_client_w)\n",
    "            local_loss.append(client_round_loss)\n",
    "        \n",
    "        # 聚合客户端模型，得到w^(t-1/2)\n",
    "        w_t_half = average_weights(local_weights)\n",
    "        \n",
    "        # 计算选定客户端数据的分布P'_t\n",
    "        selected_client_labels = []\n",
    "        for i in sampled_clients:\n",
    "            selected_client_labels.extend(client_data[i][1])\n",
    "        selected_client_labels = np.array(selected_client_labels)\n",
    "        n_prime = len(selected_client_labels)\n",
    "        \n",
    "        P_t_prime = {}\n",
    "        for cls in unique_classes:\n",
    "            P_t_prime[cls] = np.sum(selected_client_labels == cls) / n_prime if n_prime > 0 else 0\n",
    "        \n",
    "        # 计算选定客户端数据的非IID程度\n",
    "        D_P_t_prime = calculate_js_divergence(P_t_prime, P)\n",
    "        \n",
    "        # 评估聚合模型w^(t-1/2)的准确率\n",
    "        test_model.load_state_dict(w_t_half)\n",
    "        acc_t = test_inference(test_model, test_dataset) / 100.0  # 转换为[0,1]比例\n",
    "        \n",
    "        # 计算f'(acc) - 使用平滑版本\n",
    "        f_prime_acc = f_prime_acc_function(acc_t, fcc_mode)\n",
    "        f_prime_acc_history.append(f_prime_acc)\n",
    "        \n",
    "        # 计算τ (服务器更新的迭代次数)\n",
    "        tau = max(1, math.ceil((n_0 * E) / batch_size))\n",
    "        \n",
    "        # 计算有效步长τ_eff\n",
    "        epsilon = 1e-10  # 避免除零\n",
    "        ratio = (n_0 * D_P_t_prime) / (n_0 * D_P_t_prime + n_prime * D_P_0 + epsilon)\n",
    "        ratio_history.append(ratio)\n",
    "        \n",
    "        current_tau_eff = max(0.01, f_prime_acc * ratio * C * (decay_rate ** round) * tau)\n",
    "        \n",
    "        # 应用EMA平滑\n",
    "        if round == 0:\n",
    "            ema_tau_eff = current_tau_eff\n",
    "        else:\n",
    "            ema_tau_eff = ema_alpha * ema_tau_eff + (1 - ema_alpha) * current_tau_eff\n",
    "            \n",
    "        tau_eff = ema_tau_eff\n",
    "        tau_eff_history.append(tau_eff)\n",
    "        \n",
    "        # 决定是否应用服务器更新\n",
    "        if round % server_update_frequency == 0:\n",
    "            # 直接计算服务器梯度\n",
    "            test_model.load_state_dict(w_t_half)\n",
    "            server_grad = calculate_server_gradient(test_model, server_data, batch_size, tau)\n",
    "            \n",
    "            # 服务器也执行标准更新，用于评估\n",
    "            server_update_w, round_loss, _ = update_weights(copy.deepcopy(w_t_half), server_data, current_gamma, E)\n",
    "            local_loss.append(round_loss)\n",
    "            \n",
    "            # 应用公式(4)进行更新：w^t = w^(t-1/2) - τ_eff * η * g_0(w^(t-1/2))\n",
    "            train_w = copy.deepcopy(w_t_half)\n",
    "            for key in server_grad.keys():\n",
    "                if server_grad[key] is not None:  # 确保梯度存在\n",
    "                    train_w[key] = w_t_half[key] - tau_eff * current_gamma * server_grad[key]\n",
    "            \n",
    "            # 计算梯度范数用于监控\n",
    "            grad_norm = np.sqrt(sum(torch.norm(g).item()**2 for g in server_grad.values() if g is not None))\n",
    "            grad_norm_history.append(grad_norm)\n",
    "        else:\n",
    "            # 直接使用客户端聚合模型\n",
    "            train_w = copy.deepcopy(w_t_half)\n",
    "            server_update_w, round_loss, _ = update_weights(copy.deepcopy(w_t_half), server_data, current_gamma, E)\n",
    "            local_loss.append(round_loss)\n",
    "            grad_norm_history.append(0)  # 未使用服务器梯度\n",
    "        \n",
    "        # 定期打印调试信息\n",
    "        if round % 5 == 0 or round == global_round - 1:\n",
    "            print(f\"\\nRound {round} 详情:\")\n",
    "            print(f\"  准确率: {acc_t*100:.2f}%\")\n",
    "            print(f\"  f'(acc): {f_prime_acc:.4f}\")\n",
    "            print(f\"  D(P'_t): {D_P_t_prime:.6f}\")\n",
    "            print(f\"  D(P_0): {D_P_0:.6f}\")\n",
    "            print(f\"  比率: {ratio:.4f}\")\n",
    "            print(f\"  τ_eff: {tau_eff:.4f}\")\n",
    "            if round % server_update_frequency == 0:\n",
    "                print(f\"  梯度范数: {grad_norm:.6f}\")\n",
    "            print(f\"  服务器更新迭代次数: {tau}\")\n",
    "            print(f\"  当前服务器学习率: {current_gamma:.6f}\")\n",
    "        \n",
    "        # 评估模型\n",
    "        test_model.load_state_dict(train_w)\n",
    "        loss_avg = sum(local_loss) / len(local_loss)\n",
    "        train_loss.append(loss_avg)\n",
    "        \n",
    "        # 在所有测试数据上测试\n",
    "        current_acc = test_inference(test_model, test_dataset)\n",
    "        test_acc.append(current_acc)\n",
    "        \n",
    "        if round % 10 == 0:\n",
    "            print(f\"Round {round}, Test Accuracy: {current_acc:.2f}%, Train Loss: {loss_avg:.4f}\")\n",
    "    \n",
    "    # # 训练结束后可视化参数变化，帮助诊断\n",
    "    # if len(tau_eff_history) > 0:\n",
    "    #     plt.figure(figsize=(15, 10))\n",
    "        \n",
    "    #     plt.subplot(2, 2, 1)\n",
    "    #     plt.plot(range(global_round), tau_eff_history)\n",
    "    #     plt.title('Effective Steps (τ_eff)')\n",
    "    #     plt.xlabel('Round')\n",
    "    #     plt.ylabel('τ_eff')\n",
    "        \n",
    "    #     plt.subplot(2, 2, 2)\n",
    "    #     plt.plot(range(global_round), ratio_history)\n",
    "    #     plt.title('Distribution Ratio')\n",
    "    #     plt.xlabel('Round')\n",
    "    #     plt.ylabel('Ratio')\n",
    "        \n",
    "    #     plt.subplot(2, 2, 3)\n",
    "    #     plt.plot(range(global_round), f_prime_acc_history)\n",
    "    #     plt.title('f\\'(acc)')\n",
    "    #     plt.xlabel('Round')\n",
    "    #     plt.ylabel('f\\'(acc)')\n",
    "        \n",
    "    #     plt.subplot(2, 2, 4)\n",
    "    #     plt.plot(range(global_round), grad_norm_history)\n",
    "    #     plt.title('Gradient Norm')\n",
    "    #     plt.xlabel('Round')\n",
    "    #     plt.ylabel('||g||')\n",
    "        \n",
    "    #     plt.tight_layout()\n",
    "    #     plt.savefig(f'feddu_diagnostics_{datetime.datetime.now().strftime(\"%Y%m%d_%H%M%S\")}.png')\n",
    "    #     plt.show()\n",
    "    \n",
    "    return test_acc, train_loss"
   ]
  },
  {
   "cell_type": "code",
   "execution_count": 48,
   "metadata": {},
   "outputs": [],
   "source": [
    "# 与FedDUAP复现代码对应\n",
    "\n",
    "def KL_divergence(p1, p2):\n",
    "    \"\"\"\n",
    "    计算KL散度，与参考代码一致\n",
    "    \"\"\"\n",
    "    d = 0\n",
    "    for i in range(len(p1)):\n",
    "        if p2[i] == 0 or p1[i] == 0:\n",
    "            continue\n",
    "        d += p1[i] * math.log(p1[i]/p2[i], 2)  # 使用以2为底的对数\n",
    "    return d\n",
    "\n",
    "def calculate_js_divergence(p1, p2):\n",
    "    \"\"\"\n",
    "    计算Jensen-Shannon散度，与参考代码完全一致\n",
    "    \"\"\"\n",
    "    # 创建中点分布p3\n",
    "    p3 = []\n",
    "    for i in range(len(p1)):\n",
    "        p3.append((p1[i] + p2[i])/2)\n",
    "    \n",
    "    # 计算JS散度 = (KL(p1||p3) + KL(p2||p3))/2\n",
    "    return KL_divergence(p1, p3)/2 + KL_divergence(p2, p3)/2\n",
    "\n",
    "def ratio_combine(w1, w2, ratio=0):\n",
    "    \"\"\"\n",
    "    将两个权重进行加权平均，ratio表示w2的占比\n",
    "    对应参考代码中的ratio_combine函数\n",
    "    \"\"\"\n",
    "    w = copy.deepcopy(w1)\n",
    "    for key in w.keys():\n",
    "        if 'num_batches_tracked' in key:\n",
    "            continue\n",
    "        w[key] = (w2[key] - w1[key]) * ratio + w1[key]\n",
    "    return w\n",
    "\n",
    "def ratio_minus(w1, P, ratio=0):\n",
    "    \"\"\"\n",
    "    从w1减去P乘以ratio\n",
    "    对应参考代码中的ratio_minus函数\n",
    "    \"\"\"\n",
    "    w = copy.deepcopy(w1)\n",
    "    for key in w.keys():\n",
    "        if 'num_batches_tracked' in key:\n",
    "            continue\n",
    "        w[key] = w1[key] - P[key] * ratio\n",
    "    return w\n",
    "\n",
    "\n",
    "def calculate_server_gradient(model, server_data, batch_size, num_iterations):\n",
    "    \"\"\"\n",
    "    计算服务器数据上的梯度，与参考代码保持一致\n",
    "    \"\"\"\n",
    "    model.train()\n",
    "    criterion = nn.CrossEntropyLoss()\n",
    "    \n",
    "    # 调整批次大小\n",
    "    adjusted_batch_size = min(batch_size, len(server_data[0]))\n",
    "    \n",
    "    # 创建数据加载器\n",
    "    if origin_model == 'resnet' or origin_model == 'cnn':\n",
    "        dataset = TensorDataset(torch.Tensor(server_data[0]).to(device), \n",
    "                               torch.Tensor(server_data[1]).long().to(device))\n",
    "    elif origin_model == 'lstm':\n",
    "        dataset = TensorDataset(torch.LongTensor(server_data[0]).to(device), \n",
    "                               torch.Tensor(server_data[1]).to(device))\n",
    "        \n",
    "    data_loader = DataLoader(dataset, batch_size=adjusted_batch_size, shuffle=True)\n",
    "    \n",
    "    # 限制实际迭代次数\n",
    "    actual_iterations = min(num_iterations, len(data_loader))\n",
    "    \n",
    "    gradients = []\n",
    "    \n",
    "    for i, (images, labels) in enumerate(data_loader):\n",
    "        if i >= actual_iterations:\n",
    "            break\n",
    "            \n",
    "        # 前向传播\n",
    "        model.zero_grad()\n",
    "        outputs = model(images)['output']\n",
    "        loss = criterion(outputs, labels)\n",
    "        loss.backward()\n",
    "        \n",
    "        # 保存当前批次的梯度\n",
    "        batch_grad = {}\n",
    "        for name, param in model.named_parameters():\n",
    "            if param.grad is not None and 'num_batches_tracked' not in name:\n",
    "                batch_grad[name] = param.grad.clone()\n",
    "        \n",
    "        gradients.append(batch_grad)\n",
    "    \n",
    "    # 计算平均梯度\n",
    "    avg_grad = {}\n",
    "    if len(gradients) > 0:\n",
    "        for name in gradients[0].keys():\n",
    "            avg_grad[name] = sum(grad[name] for grad in gradients) / len(gradients)\n",
    "    \n",
    "    return avg_grad\n",
    "\n",
    "def FedDU_modify(initial_w, global_round, eta, gamma, K, E, M):\n",
    "    \"\"\"\n",
    "    Federated Dynamic Update算法实现，确保与参考代码完全一致\n",
    "    \"\"\"\n",
    "    if origin_model == 'resnet':\n",
    "        test_model = ResNet18_cifar10().to(device)\n",
    "    elif origin_model == \"lstm\":\n",
    "        test_model = CharLSTM().to(device)\n",
    "    elif origin_model == \"cnn\":\n",
    "        test_model = cnncifar().to(device)\n",
    "\n",
    "    # 初始化模型权重\n",
    "    train_w = copy.deepcopy(initial_w)\n",
    "    test_model.load_state_dict(train_w)\n",
    "    \n",
    "    # 结果记录\n",
    "    test_acc = []\n",
    "    train_loss = []\n",
    "    \n",
    "    # 服务器更新的最小步长\n",
    "    server_min = 0\n",
    "    \n",
    "    # 收集所有客户端数据标签以计算全局分布\n",
    "    all_client_labels = []\n",
    "    for i in range(client_num):\n",
    "        all_client_labels.extend(client_data[i][1])\n",
    "    all_client_labels = np.array(all_client_labels)\n",
    "    \n",
    "    # 获取所有数据中的唯一类别\n",
    "    unique_classes = np.unique(all_client_labels)\n",
    "    num_classes = len(unique_classes)\n",
    "    \n",
    "    # 计算全局分布 (列表格式)\n",
    "    P = [0] * num_classes\n",
    "    for i, cls in enumerate(unique_classes):\n",
    "        P[i] = np.sum(all_client_labels == cls) / len(all_client_labels)\n",
    "    \n",
    "    # 获取服务器数据信息\n",
    "    server_labels = np.array(server_data[1])\n",
    "    n_0 = len(server_labels)  # 服务器数据量\n",
    "    \n",
    "    # 计算服务器分布 (列表格式)\n",
    "    P_0 = [0] * num_classes\n",
    "    for i, cls in enumerate(unique_classes):\n",
    "        P_0[i] = np.sum(server_labels == cls) / n_0 if n_0 > 0 else 0\n",
    "    \n",
    "    # 计算服务器数据的非IID程度\n",
    "    D_P_0 = calculate_js_divergence(P_0, P)\n",
    "    \n",
    "    # 输出初始设置\n",
    "    print(\"FedDU初始设置:\")\n",
    "    print(f\"  服务器数据量: {n_0}\")\n",
    "    print(f\"  服务器数据非IID度: {D_P_0:.6f}\")\n",
    "    print(f\"  衰减率: {decay_rate}\")\n",
    "    \n",
    "    for round in tqdm(range(global_round)):\n",
    "        local_weights, local_losses = [], []\n",
    "        \n",
    "        # 随机选择M个客户端\n",
    "        sampled_clients = random.sample(range(client_num), M)\n",
    "        \n",
    "        # 记录当前轮次选择的客户端数据总量\n",
    "        num_current = 0\n",
    "        for i in sampled_clients:\n",
    "            num_current += len(client_data[i][0])\n",
    "        \n",
    "        # 客户端本地训练\n",
    "        for i in sampled_clients:\n",
    "            update_client_w, client_round_loss, _ = update_weights(train_w, client_data[i], eta, K)\n",
    "            local_weights.append(update_client_w)\n",
    "            local_losses.append(client_round_loss)\n",
    "        \n",
    "        # 聚合客户端模型\n",
    "        w_t_half = average_weights(local_weights)\n",
    "        \n",
    "        # 计算选定客户端数据的分布 (列表格式)\n",
    "        selected_client_labels = []\n",
    "        for i in sampled_clients:\n",
    "            selected_client_labels.extend(client_data[i][1])\n",
    "        selected_client_labels = np.array(selected_client_labels)\n",
    "        \n",
    "        P_t_prime = [0] * num_classes\n",
    "        for i, cls in enumerate(unique_classes):\n",
    "            P_t_prime[i] = np.sum(selected_client_labels == cls) / len(selected_client_labels) if len(selected_client_labels) > 0 else 0\n",
    "        \n",
    "        # 计算选定客户端数据的非IID程度\n",
    "        D_P_t_prime = calculate_js_divergence(P_t_prime, P)\n",
    "        \n",
    "        # 评估聚合模型的准确率\n",
    "        test_model.load_state_dict(w_t_half)\n",
    "        acc_t = test_inference(test_model, test_dataset) / 100.0  # 转换为[0,1]比例\n",
    "        \n",
    "        # 计算每个客户端的平均迭代次数\n",
    "        avg_iter = (num_current * K) / (M * bc_size)\n",
    "        \n",
    "        # 计算alpha (动态更新系数)\n",
    "        alpha = (1 - acc_t) * (n_0 * D_P_t_prime) / (n_0 * D_P_t_prime + num_current * D_P_0)\n",
    "        alpha = alpha * (decay_rate ** round)\n",
    "        \n",
    "        # 计算服务器更新迭代次数\n",
    "        server_iter = max(server_min, int(alpha * avg_iter))\n",
    "        \n",
    "        # 只有当alpha大于阈值时才进行服务器更新\n",
    "        if alpha > 0.001:\n",
    "            # 服务器数据训练实际迭代次数\n",
    "            actual_iter = math.ceil(n_0 / bc_size) * E\n",
    "            server_iter = min(actual_iter, server_iter)\n",
    "            \n",
    "            # 服务器更新\n",
    "            update_server_w, round_loss, _ = update_weights(copy.deepcopy(w_t_half), server_data, gamma, E)\n",
    "            local_losses.append(round_loss)\n",
    "            \n",
    "            # 权重更新，使用ratio_combine函数\n",
    "            train_w = ratio_combine(w_t_half, update_server_w, alpha)\n",
    "            \n",
    "            print(f\"Round {round} server fixing with iters/actual_iters/alpha {server_iter}/{actual_iter}/{alpha:.4f}\")\n",
    "        else:\n",
    "            # 如果alpha不够大，直接使用客户端聚合模型\n",
    "            train_w = copy.deepcopy(w_t_half)\n",
    "            # 仍然计算服务器损失用于记录\n",
    "            _, round_loss, _ = update_weights(copy.deepcopy(w_t_half), server_data, gamma, E)\n",
    "            local_losses.append(round_loss)\n",
    "        \n",
    "        # 定期打印调试信息\n",
    "        if round % 5 == 0 or round == global_round - 1:\n",
    "            print(f\"\\nRound {round} 详情:\")\n",
    "            print(f\"  准确率: {acc_t*100:.2f}%\")\n",
    "            print(f\"  客户端数据量: {num_current}\")\n",
    "            print(f\"  D(P'_t): {D_P_t_prime:.6f}\")\n",
    "            print(f\"  D(P_0): {D_P_0:.6f}\")\n",
    "            print(f\"  alpha: {alpha:.4f}\")\n",
    "            print(f\"  平均迭代次数: {avg_iter:.2f}\")\n",
    "            print(f\"  服务器迭代次数: {server_iter}\")\n",
    "        \n",
    "        # 评估模型\n",
    "        test_model.load_state_dict(train_w)\n",
    "        loss_avg = sum(local_losses) / len(local_losses)\n",
    "        train_loss.append(loss_avg)\n",
    "        \n",
    "        # 在所有测试数据上测试\n",
    "        current_acc = test_inference(test_model, test_dataset)\n",
    "        test_acc.append(current_acc)\n",
    "        \n",
    "        if round % 10 == 0:\n",
    "            print(f\"Round {round}, Test Accuracy: {current_acc:.2f}%, Train Loss: {loss_avg:.4f}\")\n",
    "    \n",
    "    return test_acc, train_loss"
   ]
  },
  {
   "cell_type": "code",
   "execution_count": 49,
   "metadata": {},
   "outputs": [],
   "source": [
    "def FedMut(net_glob, global_round, eta, K, M):\n",
    "    \n",
    "    net_glob.train()\n",
    "    \n",
    "    if origin_model == 'resnet':\n",
    "        test_model = ResNet18_cifar10().to(device)\n",
    "    elif origin_model == \"lstm\":\n",
    "        test_model = CharLSTM().to(device)\n",
    "    elif origin_model == \"cnn\":\n",
    "        test_model = cnncifar().to(device)\n",
    "        \n",
    "    train_w = copy.deepcopy(net_glob.state_dict())\n",
    "    test_acc = []\n",
    "    train_loss = []\n",
    "    \n",
    "    w_locals = []\n",
    "    for i in range(M):\n",
    "        w_locals.append(copy.deepcopy(net_glob.state_dict()))\n",
    "        \n",
    "    max_rank = 0\n",
    "    \n",
    "    for round in tqdm(range(global_round)):\n",
    "        w_old = copy.deepcopy(net_glob.state_dict())\n",
    "        \n",
    "        # 学习率衰减，这里默认注释掉了\n",
    "        # if eta > 0.001:\n",
    "        #     eta = eta * 0.99\n",
    "        # if gamma > 0.001:\n",
    "        #     gamma = gamma * 0.99\n",
    "        local_weights, local_loss = [], []\n",
    "        # Client side local training\n",
    "        # 从总共client_num客户端中选择M个训练\n",
    "        idxs_users = np.random.choice(range(client_num), M, replace=False)\n",
    "        for i, idx in enumerate(idxs_users):\n",
    "            net_glob.load_state_dict(w_locals[i])\n",
    "            \n",
    "            update_client_w, client_round_loss, _ = update_weights(copy.deepcopy(net_glob.state_dict()), client_data[idx], eta, K)\n",
    "            w_locals[i] = copy.deepcopy(update_client_w)\n",
    "            local_loss.append(client_round_loss)\n",
    "\n",
    "        # Global Model Generation\n",
    "        w_agg = Aggregation(w_locals, None)  \n",
    "        \n",
    "        # copy weight to net_glob\n",
    "        net_glob.load_state_dict(w_agg)\n",
    "        \n",
    "        # Test Accuracy\n",
    "        test_model.load_state_dict(w_agg)\n",
    "        loss_avg = sum(local_loss)/ len(local_loss)\n",
    "        train_loss.append(loss_avg)   # 计算所有客户端的平均损失\n",
    "\n",
    "        # 新的测试（针对全部测试数据进行）\n",
    "        test_acc.append(test_inference(test_model, test_dataset))\n",
    "\n",
    "        # 按照server训练的方向，进行mutation\n",
    "        w_delta = FedSub(w_agg, w_old, 1.0)\n",
    "        # 计算模型更新w_delta的L2范数（平方和），衡量模型更新程度的大小\n",
    "        rank = delta_rank(w_delta)\n",
    "        # print(rank)\n",
    "        if rank > max_rank:\n",
    "            max_rank = rank\n",
    "        alpha = radius  # 论文中的alpha，衡量Mutation的幅度\n",
    "        # alpha = min(max(args.radius, max_rank/rank),(10.0-args.radius) * (1 - iter/args.epochs) + args.radius)\n",
    "        w_locals = mutation_spread(\n",
    "            round, w_agg, M, w_delta, alpha\n",
    "        )\n",
    "\n",
    "    return test_acc, train_loss   "
   ]
  },
  {
   "cell_type": "code",
   "execution_count": 50,
   "metadata": {},
   "outputs": [],
   "source": [
    "\n",
    "# Mutation方向设置为server更新的方向\n",
    "def CLG_Mut(net_glob, global_round, eta, gamma, K, E, M):\n",
    "    \n",
    "    net_glob.train()\n",
    "    \n",
    "    if origin_model == 'resnet':\n",
    "        test_model = ResNet18_cifar10().to(device)\n",
    "    elif origin_model == \"lstm\":\n",
    "        test_model = CharLSTM().to(device)\n",
    "    elif origin_model == \"cnn\":\n",
    "        test_model = cnncifar().to(device)\n",
    "        \n",
    "    train_w = copy.deepcopy(net_glob.state_dict())\n",
    "    test_acc = []\n",
    "    train_loss = []\n",
    "    \n",
    "    w_locals = []\n",
    "    for i in range(M):\n",
    "        w_locals.append(copy.deepcopy(net_glob.state_dict()))\n",
    "    \n",
    "    delta_list = []\n",
    "    max_rank = 0\n",
    "    w_old = copy.deepcopy(net_glob.state_dict())\n",
    "    w_old_s1 = copy.deepcopy(net_glob.state_dict())\n",
    "    \n",
    "    for round in tqdm(range(global_round)):\n",
    "        # 学习率衰减，这里默认注释掉了\n",
    "        # if eta > 0.001:\n",
    "        #     eta = eta * 0.99\n",
    "        # if gamma > 0.001:\n",
    "        #     gamma = gamma * 0.99\n",
    "        local_weights, local_loss = [], []\n",
    "        # Client side local training\n",
    "        # 从总共client_num客户端中选择M个训练\n",
    "        idxs_users = np.random.choice(range(client_num), M, replace=False)\n",
    "        for i, idx in enumerate(idxs_users):\n",
    "            net_glob.load_state_dict(w_locals[i])\n",
    "            \n",
    "            update_client_w, client_round_loss, _ = update_weights(copy.deepcopy(net_glob.state_dict()), client_data[idx], eta, K)\n",
    "            w_locals[i] = copy.deepcopy(update_client_w)\n",
    "            local_loss.append(client_round_loss)\n",
    "\n",
    "        # Global Model Generation\n",
    "        w_agg = Aggregation(w_locals, None)  \n",
    "        \n",
    "        # Server side local training\n",
    "        update_server_w, round_loss, _ = update_weights(w_agg, server_data, gamma, E)\n",
    "        local_loss.append(round_loss)\n",
    "\n",
    "        # Test Accuracy\n",
    "        test_model.load_state_dict(update_server_w)\n",
    "        loss_avg = sum(local_loss)/ len(local_loss)\n",
    "        train_loss.append(loss_avg)   # 计算所有客户端和服务器一起的平均损失\n",
    "\n",
    "\n",
    "        # 新的测试（针对全部测试数据进行）\n",
    "        test_acc.append(test_inference(test_model, test_dataset))\n",
    "\n",
    "        # 按照server训练的方向，进行mutation\n",
    "        w_delta = FedSub(update_server_w, w_agg, 1.0)\n",
    "        # 计算模型更新w_delta的L2范数（平方和），衡量模型更新程度的大小\n",
    "        rank = delta_rank(w_delta)\n",
    "        # print(rank)\n",
    "        if rank > max_rank:\n",
    "            max_rank = rank\n",
    "        alpha = radius  # 论文中的alpha，衡量Mutation的幅度\n",
    "        # alpha = min(max(args.radius, max_rank/rank),(10.0-args.radius) * (1 - iter/args.epochs) + args.radius)\n",
    "        w_locals = mutation_spread(\n",
    "            round, update_server_w, M, w_delta, alpha\n",
    "        )\n",
    "\n",
    "    return test_acc, train_loss\n",
    "\n",
    "\n",
    "# 将mutation的方向设置为新方向（server更新之后）减去上一轮全局方向（其余不变）\n",
    "def CLG_Mut_2(net_glob, global_round, eta, gamma, K, E, M):\n",
    "    \n",
    "    net_glob.train()\n",
    "    \n",
    "    if origin_model == 'resnet':\n",
    "        test_model = ResNet18_cifar10().to(device)\n",
    "    elif origin_model == \"lstm\":\n",
    "        test_model = CharLSTM().to(device)\n",
    "    elif origin_model == \"cnn\":\n",
    "        test_model = cnncifar().to(device)\n",
    "        \n",
    "    train_w = copy.deepcopy(net_glob.state_dict())\n",
    "    test_acc = []\n",
    "    train_loss = []\n",
    "    \n",
    "    w_locals = []\n",
    "    for i in range(M):\n",
    "        w_locals.append(copy.deepcopy(net_glob.state_dict()))\n",
    "    \n",
    "    delta_list = []\n",
    "    max_rank = 0\n",
    "    w_old = copy.deepcopy(net_glob.state_dict())\n",
    "    w_old_s1 = copy.deepcopy(net_glob.state_dict())\n",
    "    \n",
    "    for round in tqdm(range(global_round)):\n",
    "        w_old = copy.deepcopy(net_glob.state_dict())\n",
    "        \n",
    "        # 学习率衰减，这里默认注释掉了\n",
    "        # if eta > 0.001:\n",
    "        #     eta = eta * 0.99\n",
    "        # if gamma > 0.001:\n",
    "        #     gamma = gamma * 0.99\n",
    "        local_weights, local_loss = [], []\n",
    "        # Client side local training\n",
    "        # 从总共client_num客户端中选择M个训练\n",
    "        idxs_users = np.random.choice(range(client_num), M, replace=False)\n",
    "        for i, idx in enumerate(idxs_users):\n",
    "            net_glob.load_state_dict(w_locals[i])\n",
    "            \n",
    "            update_client_w, client_round_loss, _ = update_weights(copy.deepcopy(net_glob.state_dict()), client_data[idx], eta, K)\n",
    "            w_locals[i] = copy.deepcopy(update_client_w)\n",
    "            local_loss.append(client_round_loss)\n",
    "\n",
    "        # Global Model Generation\n",
    "        w_agg = Aggregation(w_locals, None)  \n",
    "        \n",
    "        # Server side local training\n",
    "        update_server_w, round_loss, _ = update_weights(w_agg, server_data, gamma, E)\n",
    "        local_loss.append(round_loss)\n",
    "        \n",
    "        \n",
    "        # copy weight to net_glob\n",
    "        net_glob.load_state_dict(update_server_w)\n",
    "\n",
    "        # Test Accuracy\n",
    "        test_model.load_state_dict(update_server_w)\n",
    "        loss_avg = sum(local_loss)/ len(local_loss)\n",
    "        train_loss.append(loss_avg)   # 计算所有客户端和服务器一起的平均损\n",
    "\n",
    "\n",
    "        # 新的测试（针对全部测试数据进行）\n",
    "        test_acc.append(test_inference(test_model, test_dataset))\n",
    "\n",
    "        # 按照server训练的方向，进行mutation\n",
    "        w_delta = FedSub(update_server_w, w_old, 1.0)\n",
    "        # 计算模型更新w_delta的L2范数（平方和），衡量模型更新程度的大小\n",
    "        rank = delta_rank(w_delta)\n",
    "        # print(rank)\n",
    "        if rank > max_rank:\n",
    "            max_rank = rank\n",
    "        alpha = radius  # 论文中的alpha，衡量Mutation的幅度\n",
    "        # alpha = min(max(args.radius, max_rank/rank),(10.0-args.radius) * (1 - iter/args.epochs) + args.radius)\n",
    "        w_locals = mutation_spread(\n",
    "            round, update_server_w, M, w_delta, alpha\n",
    "        )\n",
    "\n",
    "    return test_acc, train_loss\n",
    "\n",
    "\n",
    "# 将mutation的方向设置为client训练更新的方向\n",
    "def CLG_Mut_3(net_glob, global_round, eta, gamma, K, E, M):\n",
    "    \n",
    "    net_glob.train()\n",
    "    \n",
    "    if origin_model == 'resnet':\n",
    "        test_model = ResNet18_cifar10().to(device)\n",
    "    elif origin_model == \"lstm\":\n",
    "        test_model = CharLSTM().to(device)\n",
    "    elif origin_model == \"cnn\":\n",
    "        test_model = cnncifar().to(device)\n",
    "        \n",
    "    train_w = copy.deepcopy(net_glob.state_dict())\n",
    "    test_acc = []\n",
    "    train_loss = []\n",
    "    \n",
    "    w_locals = []\n",
    "    for i in range(M):\n",
    "        w_locals.append(copy.deepcopy(net_glob.state_dict()))\n",
    "    \n",
    "    delta_list = []\n",
    "    max_rank = 0\n",
    "    w_old = copy.deepcopy(net_glob.state_dict())\n",
    "    w_old_s1 = copy.deepcopy(net_glob.state_dict())\n",
    "    \n",
    "    for round in tqdm(range(global_round)):\n",
    "        w_old = copy.deepcopy(net_glob.state_dict())\n",
    "        \n",
    "        # 学习率衰减，这里默认注释掉了\n",
    "        # if eta > 0.001:\n",
    "        #     eta = eta * 0.99\n",
    "        # if gamma > 0.001:\n",
    "        #     gamma = gamma * 0.99\n",
    "        local_weights, local_loss = [], []\n",
    "        # Client side local training\n",
    "        # 从总共client_num客户端中选择M个训练\n",
    "        idxs_users = np.random.choice(range(client_num), M, replace=False)\n",
    "        for i, idx in enumerate(idxs_users):\n",
    "            net_glob.load_state_dict(w_locals[i])\n",
    "            \n",
    "            update_client_w, client_round_loss, _ = update_weights(copy.deepcopy(net_glob.state_dict()), client_data[idx], eta, K)\n",
    "            w_locals[i] = copy.deepcopy(update_client_w)\n",
    "            local_loss.append(client_round_loss)\n",
    "\n",
    "        # Global Model Generation\n",
    "        w_agg = Aggregation(w_locals, None)  \n",
    "        \n",
    "        # Server side local training\n",
    "        update_server_w, round_loss, _ = update_weights(w_agg, server_data, gamma, E)\n",
    "        local_loss.append(round_loss)\n",
    "        \n",
    "        \n",
    "        # copy weight to net_glob\n",
    "        net_glob.load_state_dict(update_server_w)\n",
    "\n",
    "        # Test Accuracy\n",
    "        test_model.load_state_dict(update_server_w)\n",
    "        loss_avg = sum(local_loss)/ len(local_loss)\n",
    "        train_loss.append(loss_avg)   # 计算所有客户端和服务器一起的平均损\n",
    "\n",
    "\n",
    "        # 新的测试（针对全部测试数据进行）\n",
    "        test_acc.append(test_inference(test_model, test_dataset))\n",
    "\n",
    "        # 按照client训练的方向，进行mutation\n",
    "        w_delta = FedSub(w_agg, w_old, 1.0)\n",
    "        # 计算模型更新w_delta的L2范数（平方和），衡量模型更新程度的大小\n",
    "        rank = delta_rank(w_delta)\n",
    "        # print(rank)\n",
    "        if rank > max_rank:\n",
    "            max_rank = rank\n",
    "        alpha = radius  # 论文中的alpha，衡量Mutation的幅度\n",
    "        # alpha = min(max(args.radius, max_rank/rank),(10.0-args.radius) * (1 - iter/args.epochs) + args.radius)\n",
    "        w_locals = mutation_spread(\n",
    "            round, update_server_w, M, w_delta, alpha\n",
    "        )\n",
    "\n",
    "    return test_acc, train_loss\n",
    "\n",
    "\n",
    "def mutation_spread(iter, w_glob, m, w_delta, alpha):\n",
    "\n",
    "    w_locals_new = []\n",
    "    ctrl_cmd_list = []\n",
    "    ctrl_rate = mut_acc_rate * (\n",
    "        1.0 - min(iter * 1.0 / mut_bound, 1.0)\n",
    "    )  # 论文中的βt，随着iter逐渐从β0减小到0\n",
    "\n",
    "    # k代表模型中的参数数量，对每个参数按照client数量分配v（论文中是按照每一层分配）\n",
    "    for k in w_glob.keys():\n",
    "        ctrl_list = []\n",
    "        for i in range(0, int(m / 2)):\n",
    "            ctrl = random.random()  # 随机数，范围：[0,1)\n",
    "            # 这里分ctrl感觉没什么必要，shuffle后都会随机掉\n",
    "            if ctrl > 0.5:\n",
    "                ctrl_list.append(1.0)\n",
    "                ctrl_list.append(1.0 * (-1.0 + ctrl_rate))\n",
    "            else:\n",
    "                ctrl_list.append(1.0 * (-1.0 + ctrl_rate))\n",
    "                ctrl_list.append(1.0)\n",
    "        random.shuffle(ctrl_list)  # 打乱列表\n",
    "        ctrl_cmd_list.append(ctrl_list)\n",
    "    cnt = 0\n",
    "    for j in range(m):\n",
    "        w_sub = copy.deepcopy(w_glob)\n",
    "        if not (cnt == m - 1 and m % 2 == 1):\n",
    "            ind = 0\n",
    "            for k in w_sub.keys():\n",
    "                w_sub[k] = w_sub[k] + w_delta[k] * ctrl_cmd_list[ind][j] * alpha\n",
    "                ind += 1\n",
    "        cnt += 1\n",
    "        w_locals_new.append(w_sub)\n",
    "\n",
    "    return w_locals_new\n",
    "\n",
    "\n",
    "\n",
    "# 加权平均聚合，lens代表了权重，如果没有定义就是普通平均（FedMut就每定义）\n",
    "def Aggregation(w, lens):\n",
    "    w_avg = None\n",
    "    if lens == None:\n",
    "        total_count = len(w)\n",
    "        lens = []\n",
    "        for i in range(len(w)):\n",
    "            lens.append(1.0)\n",
    "    else:\n",
    "        total_count = sum(lens)\n",
    "\n",
    "    for i in range(0, len(w)):\n",
    "        if i == 0:\n",
    "            w_avg = copy.deepcopy(w[0])\n",
    "            for k in w_avg.keys():\n",
    "                w_avg[k] = w[i][k] * lens[i]\n",
    "        else:\n",
    "            for k in w_avg.keys():\n",
    "                w_avg[k] += w[i][k] * lens[i]\n",
    "\n",
    "    for k in w_avg.keys():\n",
    "        w_avg[k] = torch.div(w_avg[k], total_count)\n",
    "\n",
    "    return w_avg\n",
    "\n",
    "\n",
    "\n",
    "def FedSub(w, w_old, weight):\n",
    "    w_sub = copy.deepcopy(w)\n",
    "    for k in w_sub.keys():\n",
    "        w_sub[k] = (w[k] - w_old[k]) * weight\n",
    "\n",
    "    return w_sub\n",
    "\n",
    "def delta_rank(delta_dict):\n",
    "    cnt = 0\n",
    "    dict_a = torch.Tensor(0)\n",
    "    s = 0\n",
    "    for p in delta_dict.keys():\n",
    "        a = delta_dict[p]\n",
    "        a = a.view(-1)\n",
    "        if cnt == 0:\n",
    "            dict_a = a\n",
    "        else:\n",
    "            dict_a = torch.cat((dict_a, a), dim=0)\n",
    "\n",
    "        cnt += 1\n",
    "        # print(sim)\n",
    "    s = torch.norm(dict_a, dim=0)\n",
    "    return s\n",
    "\n"
   ]
  },
  {
   "cell_type": "code",
   "execution_count": 51,
   "metadata": {},
   "outputs": [],
   "source": [
    "# 随机性（这里暂时不采用，先固定为false）\n",
    "data_random_fix = False  # 是否固定数据采样的随机性\n",
    "seed_num = 42\n",
    "# 新采用的全局随机性机制\n",
    "random_fix = True\n",
    "seed = 2\n",
    "\n",
    "GPU = 0  # 决定使用哪个gpu 0或1\n",
    "verbose = False  # 调试模式，输出一些中间信息\n",
    "\n",
    "client_num = 100\n",
    "non_iid = 0.5  # Dirichlet 分布参数，数值越小数据越不均匀可根据需要调整\n",
    "size_per_client = 400  # 每个客户端的数据量（训练）\n",
    "\n",
    "server_iid = False # True代表server数据iid分布，否则为Non-iid分布（默认为0.5）\n",
    "server_percentage = 0.1  # 服务器端用于微调的数据比例\n",
    "\n",
    "# 模型相关\n",
    "origin_model = 'resnet' # 采用模型\n",
    "dataset = 'cifar10'\n",
    "\n",
    "momentum = 0.5\n",
    "weight_decay = 0  # 模型权重衰减参数，强制参数向0靠拢（和学习率衰减不一样！）这个是给我的原始代码中就是这样（设为0表示不引入）\n",
    "bc_size = 50\n",
    "test_bc_size = 128\n",
    "num_classes = 10  # 分别数量，CIFAR100中是20, CIFAR10是10\n",
    "\n",
    "# 联邦训练的超参数\n",
    "global_round = 100  # 全局训练轮数，可根据需要调整\n",
    "eta = 0.01  # 客户端端学习率，从{0.01, 0.1, 1}中调优\n",
    "gamma = 0.01  # 服务器端学习率 从{0.005， 0.05， 0.5中调有}\n",
    "K = 5  # 客户端本地训练轮数，从1，3，5中选\n",
    "E = 1  # 服务器本地训练轮数，从1，3，5中选\n",
    "M = 10  # 每一轮抽取客户端\n",
    "\n",
    "# FedMut中参数\n",
    "radius = 5.0  # alpha，控制mutation的幅度\n",
    "mut_acc_rate = 0.5  # 论文中的β0\n",
    "mut_bound = 50  # Tb\n",
    "\n",
    "# FedDU中参数\n",
    "# 初始化步长EMA\n",
    "ema_tau_eff = 0\n",
    "ema_alpha = 0.9  # EMA系数\n",
    "    \n",
    "# 步长计算的超参数\n",
    "FedDU_C = 1  \n",
    "decay_rate = 0.995  # 稍微提高衰减率以降低波动\n",
    "batch_size = bc_size\n",
    "    \n",
    "# 服务器更新频率 - 每2轮进行一次服务器更新\n",
    "server_update_frequency = 1\n",
    "fcc_mode = 'smooth'"
   ]
  },
  {
   "cell_type": "code",
   "execution_count": 52,
   "metadata": {},
   "outputs": [
    {
     "name": "stdout",
     "output_type": "stream",
     "text": [
      "Files already downloaded and verified\n",
      "Files already downloaded and verified\n",
      "Traning Client Total: 39531 4765 3370 4548 3046 4655 3655 3343 4215 4754 3180\n",
      "Client 0: 396 34 20 4 10 46 2 3 141 135 1\n",
      "Client 1: 395 2 2 12 24 14 49 1 185 88 18\n",
      "Client 2: 395 7 11 5 2 289 36 30 3 10 2\n",
      "Client 3: 395 89 74 39 20 10 55 3 36 2 67\n",
      "Client 4: 395 124 82 4 32 6 16 35 37 32 27\n",
      "Client 5: 395 11 2 0 16 1 8 43 228 0 86\n",
      "Client 6: 395 107 54 71 4 0 9 0 0 38 112\n",
      "Client 7: 395 57 56 28 25 36 0 28 115 35 15\n",
      "Client 8: 394 46 11 12 0 31 2 138 127 16 11\n",
      "Client 9: 396 71 57 121 0 2 43 16 54 32\n",
      "Server: 5000 101 938 91 394 2264 403 409 245 148 7\n",
      "FedDU初始设置:\n",
      "  服务器数据量: 5000\n",
      "  服务器数据非IID度: 0.212060\n",
      "  衰减率: 0.995\n"
     ]
    },
    {
     "name": "stderr",
     "output_type": "stream",
     "text": [
      "  0%|          | 0/100 [00:00<?, ?it/s]"
     ]
    },
    {
     "name": "stdout",
     "output_type": "stream",
     "text": [
      "Round 0 server fixing with iters/actual_iters/alpha 2/100/0.0739\n",
      "\n",
      "Round 0 详情:\n",
      "  准确率: 15.86%\n",
      "  客户端数据量: 3955\n",
      "  D(P'_t): 0.016153\n",
      "  D(P_0): 0.212060\n",
      "  alpha: 0.0739\n",
      "  平均迭代次数: 39.55\n",
      "  服务器迭代次数: 2\n"
     ]
    },
    {
     "name": "stderr",
     "output_type": "stream",
     "text": [
      "  1%|          | 1/100 [00:07<11:38,  7.05s/it]"
     ]
    },
    {
     "name": "stdout",
     "output_type": "stream",
     "text": [
      "Round 0, Test Accuracy: 16.51%, Train Loss: 0.0294\n",
      "Round 1 server fixing with iters/actual_iters/alpha 2/100/0.0558\n"
     ]
    },
    {
     "name": "stderr",
     "output_type": "stream",
     "text": [
      "  2%|▏         | 2/100 [00:14<11:30,  7.05s/it]"
     ]
    },
    {
     "name": "stdout",
     "output_type": "stream",
     "text": [
      "Round 2 server fixing with iters/actual_iters/alpha 4/100/0.1039\n"
     ]
    },
    {
     "name": "stderr",
     "output_type": "stream",
     "text": [
      "  3%|▎         | 3/100 [00:21<11:23,  7.05s/it]"
     ]
    },
    {
     "name": "stdout",
     "output_type": "stream",
     "text": [
      "Round 3 server fixing with iters/actual_iters/alpha 4/100/0.1168\n"
     ]
    },
    {
     "name": "stderr",
     "output_type": "stream",
     "text": [
      "  4%|▍         | 4/100 [00:28<11:16,  7.04s/it]"
     ]
    },
    {
     "name": "stdout",
     "output_type": "stream",
     "text": [
      "Round 4 server fixing with iters/actual_iters/alpha 1/100/0.0371\n"
     ]
    },
    {
     "name": "stderr",
     "output_type": "stream",
     "text": [
      "  5%|▌         | 5/100 [00:35<11:09,  7.05s/it]"
     ]
    },
    {
     "name": "stdout",
     "output_type": "stream",
     "text": [
      "Round 5 server fixing with iters/actual_iters/alpha 1/100/0.0477\n",
      "\n",
      "Round 5 详情:\n",
      "  准确率: 40.08%\n",
      "  客户端数据量: 3954\n",
      "  D(P'_t): 0.014917\n",
      "  D(P_0): 0.212060\n",
      "  alpha: 0.0477\n",
      "  平均迭代次数: 39.54\n",
      "  服务器迭代次数: 1\n"
     ]
    },
    {
     "name": "stderr",
     "output_type": "stream",
     "text": [
      "  6%|▌         | 6/100 [00:42<11:05,  7.08s/it]"
     ]
    },
    {
     "name": "stdout",
     "output_type": "stream",
     "text": [
      "Round 6 server fixing with iters/actual_iters/alpha 3/100/0.0893\n"
     ]
    },
    {
     "name": "stderr",
     "output_type": "stream",
     "text": [
      "  7%|▋         | 7/100 [00:50<11:16,  7.27s/it]"
     ]
    },
    {
     "name": "stdout",
     "output_type": "stream",
     "text": [
      "Round 7 server fixing with iters/actual_iters/alpha 4/100/0.1179\n"
     ]
    },
    {
     "name": "stderr",
     "output_type": "stream",
     "text": [
      "  8%|▊         | 8/100 [00:57<11:19,  7.39s/it]"
     ]
    },
    {
     "name": "stdout",
     "output_type": "stream",
     "text": [
      "Round 8 server fixing with iters/actual_iters/alpha 3/100/0.0782\n"
     ]
    },
    {
     "name": "stderr",
     "output_type": "stream",
     "text": [
      "  9%|▉         | 9/100 [01:04<11:04,  7.30s/it]"
     ]
    },
    {
     "name": "stdout",
     "output_type": "stream",
     "text": [
      "Round 9 server fixing with iters/actual_iters/alpha 4/100/0.1130\n"
     ]
    },
    {
     "name": "stderr",
     "output_type": "stream",
     "text": [
      " 10%|█         | 10/100 [01:12<10:58,  7.32s/it]"
     ]
    },
    {
     "name": "stdout",
     "output_type": "stream",
     "text": [
      "Round 10 server fixing with iters/actual_iters/alpha 1/100/0.0484\n",
      "\n",
      "Round 10 详情:\n",
      "  准确率: 44.67%\n",
      "  客户端数据量: 3955\n",
      "  D(P'_t): 0.016997\n",
      "  D(P_0): 0.212060\n",
      "  alpha: 0.0484\n",
      "  平均迭代次数: 39.55\n",
      "  服务器迭代次数: 1\n"
     ]
    },
    {
     "name": "stderr",
     "output_type": "stream",
     "text": [
      " 11%|█         | 11/100 [01:19<10:55,  7.36s/it]"
     ]
    },
    {
     "name": "stdout",
     "output_type": "stream",
     "text": [
      "Round 10, Test Accuracy: 44.65%, Train Loss: 0.0115\n",
      "Round 11 server fixing with iters/actual_iters/alpha 2/100/0.0687\n"
     ]
    },
    {
     "name": "stderr",
     "output_type": "stream",
     "text": [
      " 12%|█▏        | 12/100 [01:26<10:39,  7.27s/it]"
     ]
    },
    {
     "name": "stdout",
     "output_type": "stream",
     "text": [
      "Round 12 server fixing with iters/actual_iters/alpha 3/100/0.1003\n"
     ]
    },
    {
     "name": "stderr",
     "output_type": "stream",
     "text": [
      " 13%|█▎        | 13/100 [01:33<10:26,  7.20s/it]"
     ]
    },
    {
     "name": "stdout",
     "output_type": "stream",
     "text": [
      "Round 13 server fixing with iters/actual_iters/alpha 2/100/0.0725\n"
     ]
    },
    {
     "name": "stderr",
     "output_type": "stream",
     "text": [
      " 14%|█▍        | 14/100 [01:41<10:23,  7.25s/it]"
     ]
    },
    {
     "name": "stdout",
     "output_type": "stream",
     "text": [
      "Round 14 server fixing with iters/actual_iters/alpha 2/100/0.0555\n"
     ]
    },
    {
     "name": "stderr",
     "output_type": "stream",
     "text": [
      " 15%|█▌        | 15/100 [01:48<10:11,  7.20s/it]"
     ]
    },
    {
     "name": "stdout",
     "output_type": "stream",
     "text": [
      "Round 15 server fixing with iters/actual_iters/alpha 2/100/0.0714\n",
      "\n",
      "Round 15 详情:\n",
      "  准确率: 48.74%\n",
      "  客户端数据量: 3952\n",
      "  D(P'_t): 0.029602\n",
      "  D(P_0): 0.212060\n",
      "  alpha: 0.0714\n",
      "  平均迭代次数: 39.52\n",
      "  服务器迭代次数: 2\n"
     ]
    },
    {
     "name": "stderr",
     "output_type": "stream",
     "text": [
      " 16%|█▌        | 16/100 [01:55<10:00,  7.15s/it]"
     ]
    },
    {
     "name": "stdout",
     "output_type": "stream",
     "text": [
      "Round 16 server fixing with iters/actual_iters/alpha 2/100/0.0751\n"
     ]
    },
    {
     "name": "stderr",
     "output_type": "stream",
     "text": [
      " 17%|█▋        | 17/100 [02:02<09:54,  7.17s/it]"
     ]
    },
    {
     "name": "stdout",
     "output_type": "stream",
     "text": [
      "Round 17 server fixing with iters/actual_iters/alpha 1/100/0.0262\n"
     ]
    },
    {
     "name": "stderr",
     "output_type": "stream",
     "text": [
      " 18%|█▊        | 18/100 [02:09<09:49,  7.19s/it]"
     ]
    },
    {
     "name": "stdout",
     "output_type": "stream",
     "text": [
      "Round 18 server fixing with iters/actual_iters/alpha 1/100/0.0372\n"
     ]
    },
    {
     "name": "stderr",
     "output_type": "stream",
     "text": [
      " 19%|█▉        | 19/100 [02:16<09:39,  7.15s/it]"
     ]
    },
    {
     "name": "stdout",
     "output_type": "stream",
     "text": [
      "Round 19 server fixing with iters/actual_iters/alpha 2/100/0.0679\n"
     ]
    },
    {
     "name": "stderr",
     "output_type": "stream",
     "text": [
      " 20%|██        | 20/100 [02:23<09:32,  7.16s/it]"
     ]
    },
    {
     "name": "stdout",
     "output_type": "stream",
     "text": [
      "Round 20 server fixing with iters/actual_iters/alpha 2/100/0.0725\n",
      "\n",
      "Round 20 详情:\n",
      "  准确率: 49.17%\n",
      "  客户端数据量: 3949\n",
      "  D(P'_t): 0.031359\n",
      "  D(P_0): 0.212060\n",
      "  alpha: 0.0725\n",
      "  平均迭代次数: 39.49\n",
      "  服务器迭代次数: 2\n"
     ]
    },
    {
     "name": "stderr",
     "output_type": "stream",
     "text": [
      " 21%|██        | 21/100 [02:30<09:23,  7.13s/it]"
     ]
    },
    {
     "name": "stdout",
     "output_type": "stream",
     "text": [
      "Round 20, Test Accuracy: 49.90%, Train Loss: 0.0076\n",
      "Round 21 server fixing with iters/actual_iters/alpha 1/100/0.0420\n"
     ]
    },
    {
     "name": "stderr",
     "output_type": "stream",
     "text": [
      " 22%|██▏       | 22/100 [02:38<09:27,  7.27s/it]"
     ]
    },
    {
     "name": "stdout",
     "output_type": "stream",
     "text": [
      "Round 22 server fixing with iters/actual_iters/alpha 2/100/0.0754\n"
     ]
    },
    {
     "name": "stderr",
     "output_type": "stream",
     "text": [
      " 23%|██▎       | 23/100 [02:46<09:28,  7.38s/it]"
     ]
    },
    {
     "name": "stdout",
     "output_type": "stream",
     "text": [
      "Round 23 server fixing with iters/actual_iters/alpha 1/100/0.0380\n"
     ]
    },
    {
     "name": "stderr",
     "output_type": "stream",
     "text": [
      " 24%|██▍       | 24/100 [02:53<09:17,  7.33s/it]"
     ]
    },
    {
     "name": "stdout",
     "output_type": "stream",
     "text": [
      "Round 24 server fixing with iters/actual_iters/alpha 2/100/0.0644\n"
     ]
    },
    {
     "name": "stderr",
     "output_type": "stream",
     "text": [
      " 25%|██▌       | 25/100 [03:00<09:14,  7.39s/it]"
     ]
    },
    {
     "name": "stdout",
     "output_type": "stream",
     "text": [
      "Round 25 server fixing with iters/actual_iters/alpha 2/100/0.0557\n",
      "\n",
      "Round 25 详情:\n",
      "  准确率: 51.76%\n",
      "  客户端数据量: 3952\n",
      "  D(P'_t): 0.025250\n",
      "  D(P_0): 0.212060\n",
      "  alpha: 0.0557\n",
      "  平均迭代次数: 39.52\n",
      "  服务器迭代次数: 2\n"
     ]
    },
    {
     "name": "stderr",
     "output_type": "stream",
     "text": [
      " 26%|██▌       | 26/100 [03:08<09:10,  7.44s/it]"
     ]
    },
    {
     "name": "stdout",
     "output_type": "stream",
     "text": [
      "Round 26 server fixing with iters/actual_iters/alpha 2/100/0.0634\n"
     ]
    },
    {
     "name": "stderr",
     "output_type": "stream",
     "text": [
      " 27%|██▋       | 27/100 [03:15<08:59,  7.38s/it]"
     ]
    },
    {
     "name": "stdout",
     "output_type": "stream",
     "text": [
      "Round 27 server fixing with iters/actual_iters/alpha 2/100/0.0635\n"
     ]
    },
    {
     "name": "stderr",
     "output_type": "stream",
     "text": [
      " 28%|██▊       | 28/100 [03:23<08:56,  7.45s/it]"
     ]
    },
    {
     "name": "stdout",
     "output_type": "stream",
     "text": [
      "Round 28 server fixing with iters/actual_iters/alpha 2/100/0.0540\n"
     ]
    },
    {
     "name": "stderr",
     "output_type": "stream",
     "text": [
      " 29%|██▉       | 29/100 [03:31<08:54,  7.53s/it]"
     ]
    },
    {
     "name": "stdout",
     "output_type": "stream",
     "text": [
      "Round 29 server fixing with iters/actual_iters/alpha 2/100/0.0740\n"
     ]
    },
    {
     "name": "stderr",
     "output_type": "stream",
     "text": [
      " 30%|███       | 30/100 [03:38<08:41,  7.46s/it]"
     ]
    },
    {
     "name": "stdout",
     "output_type": "stream",
     "text": [
      "Round 30 server fixing with iters/actual_iters/alpha 1/100/0.0405\n",
      "\n",
      "Round 30 详情:\n",
      "  准确率: 53.08%\n",
      "  客户端数据量: 3953\n",
      "  D(P'_t): 0.018671\n",
      "  D(P_0): 0.212060\n",
      "  alpha: 0.0405\n",
      "  平均迭代次数: 39.53\n",
      "  服务器迭代次数: 1\n"
     ]
    },
    {
     "name": "stderr",
     "output_type": "stream",
     "text": [
      " 31%|███       | 31/100 [03:45<08:34,  7.46s/it]"
     ]
    },
    {
     "name": "stdout",
     "output_type": "stream",
     "text": [
      "Round 30, Test Accuracy: 53.42%, Train Loss: 0.0049\n",
      "Round 31 server fixing with iters/actual_iters/alpha 2/100/0.0547\n"
     ]
    },
    {
     "name": "stderr",
     "output_type": "stream",
     "text": [
      " 32%|███▏      | 32/100 [03:53<08:21,  7.38s/it]"
     ]
    },
    {
     "name": "stdout",
     "output_type": "stream",
     "text": [
      "Round 32 server fixing with iters/actual_iters/alpha 2/100/0.0606\n"
     ]
    },
    {
     "name": "stderr",
     "output_type": "stream",
     "text": [
      " 33%|███▎      | 33/100 [04:00<08:19,  7.46s/it]"
     ]
    },
    {
     "name": "stdout",
     "output_type": "stream",
     "text": [
      "Round 33 server fixing with iters/actual_iters/alpha 1/100/0.0487\n"
     ]
    },
    {
     "name": "stderr",
     "output_type": "stream",
     "text": [
      " 34%|███▍      | 34/100 [04:08<08:15,  7.50s/it]"
     ]
    },
    {
     "name": "stdout",
     "output_type": "stream",
     "text": [
      "Round 34 server fixing with iters/actual_iters/alpha 1/100/0.0503\n"
     ]
    },
    {
     "name": "stderr",
     "output_type": "stream",
     "text": [
      " 35%|███▌      | 35/100 [04:15<07:59,  7.38s/it]"
     ]
    },
    {
     "name": "stdout",
     "output_type": "stream",
     "text": [
      "Round 35 server fixing with iters/actual_iters/alpha 2/100/0.0702\n",
      "\n",
      "Round 35 详情:\n",
      "  准确率: 50.74%\n",
      "  客户端数据量: 3956\n",
      "  D(P'_t): 0.034321\n",
      "  D(P_0): 0.212060\n",
      "  alpha: 0.0702\n",
      "  平均迭代次数: 39.56\n",
      "  服务器迭代次数: 2\n"
     ]
    },
    {
     "name": "stderr",
     "output_type": "stream",
     "text": [
      " 36%|███▌      | 36/100 [04:22<07:46,  7.29s/it]"
     ]
    },
    {
     "name": "stdout",
     "output_type": "stream",
     "text": [
      "Round 36 server fixing with iters/actual_iters/alpha 1/100/0.0436\n"
     ]
    },
    {
     "name": "stderr",
     "output_type": "stream",
     "text": [
      " 37%|███▋      | 37/100 [04:29<07:35,  7.22s/it]"
     ]
    },
    {
     "name": "stdout",
     "output_type": "stream",
     "text": [
      "Round 37 server fixing with iters/actual_iters/alpha 1/100/0.0408\n"
     ]
    },
    {
     "name": "stderr",
     "output_type": "stream",
     "text": [
      " 38%|███▊      | 38/100 [04:36<07:25,  7.18s/it]"
     ]
    },
    {
     "name": "stdout",
     "output_type": "stream",
     "text": [
      "Round 38 server fixing with iters/actual_iters/alpha 1/100/0.0268\n"
     ]
    },
    {
     "name": "stderr",
     "output_type": "stream",
     "text": [
      " 39%|███▉      | 39/100 [04:43<07:18,  7.18s/it]"
     ]
    },
    {
     "name": "stdout",
     "output_type": "stream",
     "text": [
      "Round 39 server fixing with iters/actual_iters/alpha 1/100/0.0451\n"
     ]
    },
    {
     "name": "stderr",
     "output_type": "stream",
     "text": [
      " 40%|████      | 40/100 [04:50<07:08,  7.15s/it]"
     ]
    },
    {
     "name": "stdout",
     "output_type": "stream",
     "text": [
      "Round 40 server fixing with iters/actual_iters/alpha 2/100/0.0526\n",
      "\n",
      "Round 40 详情:\n",
      "  准确率: 54.83%\n",
      "  客户端数据量: 3952\n",
      "  D(P'_t): 0.027802\n",
      "  D(P_0): 0.212060\n",
      "  alpha: 0.0526\n",
      "  平均迭代次数: 39.52\n",
      "  服务器迭代次数: 2\n"
     ]
    },
    {
     "name": "stderr",
     "output_type": "stream",
     "text": [
      " 41%|████      | 41/100 [04:57<07:00,  7.12s/it]"
     ]
    },
    {
     "name": "stdout",
     "output_type": "stream",
     "text": [
      "Round 40, Test Accuracy: 54.73%, Train Loss: 0.0041\n",
      "Round 41 server fixing with iters/actual_iters/alpha 3/100/0.0881\n"
     ]
    },
    {
     "name": "stderr",
     "output_type": "stream",
     "text": [
      " 42%|████▏     | 42/100 [05:04<06:52,  7.11s/it]"
     ]
    },
    {
     "name": "stdout",
     "output_type": "stream",
     "text": [
      "Round 42 server fixing with iters/actual_iters/alpha 2/100/0.0532\n"
     ]
    },
    {
     "name": "stderr",
     "output_type": "stream",
     "text": [
      " 43%|████▎     | 43/100 [05:12<06:44,  7.09s/it]"
     ]
    },
    {
     "name": "stdout",
     "output_type": "stream",
     "text": [
      "Round 43 server fixing with iters/actual_iters/alpha 1/100/0.0494\n"
     ]
    },
    {
     "name": "stderr",
     "output_type": "stream",
     "text": [
      " 44%|████▍     | 44/100 [05:19<06:38,  7.12s/it]"
     ]
    },
    {
     "name": "stdout",
     "output_type": "stream",
     "text": [
      "Round 44 server fixing with iters/actual_iters/alpha 1/100/0.0321\n"
     ]
    },
    {
     "name": "stderr",
     "output_type": "stream",
     "text": [
      " 45%|████▌     | 45/100 [05:26<06:30,  7.10s/it]"
     ]
    },
    {
     "name": "stdout",
     "output_type": "stream",
     "text": [
      "Round 45 server fixing with iters/actual_iters/alpha 2/100/0.0686\n",
      "\n",
      "Round 45 详情:\n",
      "  准确率: 56.06%\n",
      "  客户端数据量: 3954\n",
      "  D(P'_t): 0.040800\n",
      "  D(P_0): 0.212060\n",
      "  alpha: 0.0686\n",
      "  平均迭代次数: 39.54\n",
      "  服务器迭代次数: 2\n"
     ]
    },
    {
     "name": "stderr",
     "output_type": "stream",
     "text": [
      " 46%|████▌     | 46/100 [05:33<06:23,  7.11s/it]"
     ]
    },
    {
     "name": "stdout",
     "output_type": "stream",
     "text": [
      "Round 46 server fixing with iters/actual_iters/alpha 1/100/0.0420\n"
     ]
    },
    {
     "name": "stderr",
     "output_type": "stream",
     "text": [
      " 47%|████▋     | 47/100 [05:40<06:16,  7.10s/it]"
     ]
    },
    {
     "name": "stdout",
     "output_type": "stream",
     "text": [
      "Round 47 server fixing with iters/actual_iters/alpha 1/100/0.0487\n"
     ]
    },
    {
     "name": "stderr",
     "output_type": "stream",
     "text": [
      " 48%|████▊     | 48/100 [05:47<06:08,  7.09s/it]"
     ]
    },
    {
     "name": "stdout",
     "output_type": "stream",
     "text": [
      "Round 48 server fixing with iters/actual_iters/alpha 1/100/0.0270\n"
     ]
    },
    {
     "name": "stderr",
     "output_type": "stream",
     "text": [
      " 49%|████▉     | 49/100 [05:54<06:01,  7.08s/it]"
     ]
    },
    {
     "name": "stdout",
     "output_type": "stream",
     "text": [
      "Round 49 server fixing with iters/actual_iters/alpha 2/100/0.0586\n"
     ]
    },
    {
     "name": "stderr",
     "output_type": "stream",
     "text": [
      " 50%|█████     | 50/100 [06:01<05:53,  7.08s/it]"
     ]
    },
    {
     "name": "stdout",
     "output_type": "stream",
     "text": [
      "Round 50 server fixing with iters/actual_iters/alpha 1/100/0.0472\n",
      "\n",
      "Round 50 详情:\n",
      "  准确率: 56.56%\n",
      "  客户端数据量: 3955\n",
      "  D(P'_t): 0.027209\n",
      "  D(P_0): 0.212060\n",
      "  alpha: 0.0472\n",
      "  平均迭代次数: 39.55\n",
      "  服务器迭代次数: 1\n"
     ]
    },
    {
     "name": "stderr",
     "output_type": "stream",
     "text": [
      " 51%|█████     | 51/100 [06:08<05:46,  7.07s/it]"
     ]
    },
    {
     "name": "stdout",
     "output_type": "stream",
     "text": [
      "Round 50, Test Accuracy: 56.40%, Train Loss: 0.0033\n",
      "Round 51 server fixing with iters/actual_iters/alpha 1/100/0.0448\n"
     ]
    },
    {
     "name": "stderr",
     "output_type": "stream",
     "text": [
      " 52%|█████▏    | 52/100 [06:15<05:39,  7.06s/it]"
     ]
    },
    {
     "name": "stdout",
     "output_type": "stream",
     "text": [
      "Round 52 server fixing with iters/actual_iters/alpha 2/100/0.0742\n"
     ]
    },
    {
     "name": "stderr",
     "output_type": "stream",
     "text": [
      " 53%|█████▎    | 53/100 [06:22<05:32,  7.06s/it]"
     ]
    },
    {
     "name": "stdout",
     "output_type": "stream",
     "text": [
      "Round 53 server fixing with iters/actual_iters/alpha 2/100/0.0560\n"
     ]
    },
    {
     "name": "stderr",
     "output_type": "stream",
     "text": [
      " 54%|█████▍    | 54/100 [06:29<05:24,  7.06s/it]"
     ]
    },
    {
     "name": "stdout",
     "output_type": "stream",
     "text": [
      "Round 54 server fixing with iters/actual_iters/alpha 1/100/0.0305\n"
     ]
    },
    {
     "name": "stderr",
     "output_type": "stream",
     "text": [
      " 55%|█████▌    | 55/100 [06:36<05:17,  7.06s/it]"
     ]
    },
    {
     "name": "stdout",
     "output_type": "stream",
     "text": [
      "Round 55 server fixing with iters/actual_iters/alpha 1/100/0.0257\n",
      "\n",
      "Round 55 详情:\n",
      "  准确率: 57.88%\n",
      "  客户端数据量: 3961\n",
      "  D(P'_t): 0.014683\n",
      "  D(P_0): 0.212060\n",
      "  alpha: 0.0257\n",
      "  平均迭代次数: 39.61\n",
      "  服务器迭代次数: 1\n"
     ]
    },
    {
     "name": "stderr",
     "output_type": "stream",
     "text": [
      " 56%|█████▌    | 56/100 [06:44<05:17,  7.22s/it]"
     ]
    },
    {
     "name": "stdout",
     "output_type": "stream",
     "text": [
      "Round 56 server fixing with iters/actual_iters/alpha 1/100/0.0438\n"
     ]
    },
    {
     "name": "stderr",
     "output_type": "stream",
     "text": [
      " 57%|█████▋    | 57/100 [06:52<05:14,  7.32s/it]"
     ]
    },
    {
     "name": "stdout",
     "output_type": "stream",
     "text": [
      "Round 57 server fixing with iters/actual_iters/alpha 1/100/0.0475\n"
     ]
    },
    {
     "name": "stderr",
     "output_type": "stream",
     "text": [
      " 58%|█████▊    | 58/100 [06:59<05:11,  7.42s/it]"
     ]
    },
    {
     "name": "stdout",
     "output_type": "stream",
     "text": [
      "Round 58 server fixing with iters/actual_iters/alpha 1/100/0.0291\n"
     ]
    },
    {
     "name": "stderr",
     "output_type": "stream",
     "text": [
      " 59%|█████▉    | 59/100 [07:07<05:04,  7.43s/it]"
     ]
    },
    {
     "name": "stdout",
     "output_type": "stream",
     "text": [
      "Round 59 server fixing with iters/actual_iters/alpha 1/100/0.0415\n"
     ]
    },
    {
     "name": "stderr",
     "output_type": "stream",
     "text": [
      " 60%|██████    | 60/100 [07:14<04:54,  7.35s/it]"
     ]
    },
    {
     "name": "stdout",
     "output_type": "stream",
     "text": [
      "Round 60 server fixing with iters/actual_iters/alpha 0/100/0.0164\n",
      "\n",
      "Round 60 详情:\n",
      "  准确率: 58.01%\n",
      "  客户端数据量: 3957\n",
      "  D(P'_t): 0.009337\n",
      "  D(P_0): 0.212060\n",
      "  alpha: 0.0164\n",
      "  平均迭代次数: 39.57\n",
      "  服务器迭代次数: 0\n"
     ]
    },
    {
     "name": "stderr",
     "output_type": "stream",
     "text": [
      " 61%|██████    | 61/100 [07:21<04:43,  7.26s/it]"
     ]
    },
    {
     "name": "stdout",
     "output_type": "stream",
     "text": [
      "Round 60, Test Accuracy: 58.17%, Train Loss: 0.0026\n",
      "Round 61 server fixing with iters/actual_iters/alpha 0/100/0.0213\n"
     ]
    },
    {
     "name": "stderr",
     "output_type": "stream",
     "text": [
      " 62%|██████▏   | 62/100 [07:28<04:33,  7.20s/it]"
     ]
    },
    {
     "name": "stdout",
     "output_type": "stream",
     "text": [
      "Round 62 server fixing with iters/actual_iters/alpha 2/100/0.0662\n"
     ]
    },
    {
     "name": "stderr",
     "output_type": "stream",
     "text": [
      " 63%|██████▎   | 63/100 [07:35<04:24,  7.15s/it]"
     ]
    },
    {
     "name": "stdout",
     "output_type": "stream",
     "text": [
      "Round 63 server fixing with iters/actual_iters/alpha 2/100/0.0704\n"
     ]
    },
    {
     "name": "stderr",
     "output_type": "stream",
     "text": [
      " 64%|██████▍   | 64/100 [07:42<04:17,  7.16s/it]"
     ]
    },
    {
     "name": "stdout",
     "output_type": "stream",
     "text": [
      "Round 64 server fixing with iters/actual_iters/alpha 1/100/0.0482\n"
     ]
    },
    {
     "name": "stderr",
     "output_type": "stream",
     "text": [
      " 65%|██████▌   | 65/100 [07:49<04:09,  7.13s/it]"
     ]
    },
    {
     "name": "stdout",
     "output_type": "stream",
     "text": [
      "Round 65 server fixing with iters/actual_iters/alpha 1/100/0.0402\n",
      "\n",
      "Round 65 详情:\n",
      "  准确率: 57.09%\n",
      "  客户端数据量: 3952\n",
      "  D(P'_t): 0.024969\n",
      "  D(P_0): 0.212060\n",
      "  alpha: 0.0402\n",
      "  平均迭代次数: 39.52\n",
      "  服务器迭代次数: 1\n"
     ]
    },
    {
     "name": "stderr",
     "output_type": "stream",
     "text": [
      " 66%|██████▌   | 66/100 [07:56<04:01,  7.10s/it]"
     ]
    },
    {
     "name": "stdout",
     "output_type": "stream",
     "text": [
      "Round 66 server fixing with iters/actual_iters/alpha 0/100/0.0140\n"
     ]
    },
    {
     "name": "stderr",
     "output_type": "stream",
     "text": [
      " 67%|██████▋   | 67/100 [08:04<03:56,  7.16s/it]"
     ]
    },
    {
     "name": "stdout",
     "output_type": "stream",
     "text": [
      "Round 67 server fixing with iters/actual_iters/alpha 2/100/0.0549\n"
     ]
    },
    {
     "name": "stderr",
     "output_type": "stream",
     "text": [
      " 68%|██████▊   | 68/100 [08:11<03:49,  7.18s/it]"
     ]
    },
    {
     "name": "stdout",
     "output_type": "stream",
     "text": [
      "Round 68 server fixing with iters/actual_iters/alpha 1/100/0.0288\n"
     ]
    },
    {
     "name": "stderr",
     "output_type": "stream",
     "text": [
      " 69%|██████▉   | 69/100 [08:19<03:47,  7.35s/it]"
     ]
    },
    {
     "name": "stdout",
     "output_type": "stream",
     "text": [
      "Round 69 server fixing with iters/actual_iters/alpha 0/100/0.0224\n"
     ]
    },
    {
     "name": "stderr",
     "output_type": "stream",
     "text": [
      " 70%|███████   | 70/100 [08:26<03:42,  7.43s/it]"
     ]
    },
    {
     "name": "stdout",
     "output_type": "stream",
     "text": [
      "Round 70 server fixing with iters/actual_iters/alpha 0/100/0.0206\n",
      "\n",
      "Round 70 详情:\n",
      "  准确率: 57.33%\n",
      "  客户端数据量: 3955\n",
      "  D(P'_t): 0.012323\n",
      "  D(P_0): 0.212060\n",
      "  alpha: 0.0206\n",
      "  平均迭代次数: 39.55\n",
      "  服务器迭代次数: 0\n"
     ]
    },
    {
     "name": "stderr",
     "output_type": "stream",
     "text": [
      " 71%|███████   | 71/100 [08:34<03:37,  7.49s/it]"
     ]
    },
    {
     "name": "stdout",
     "output_type": "stream",
     "text": [
      "Round 70, Test Accuracy: 57.49%, Train Loss: 0.0026\n",
      "Round 71 server fixing with iters/actual_iters/alpha 1/100/0.0355\n"
     ]
    },
    {
     "name": "stderr",
     "output_type": "stream",
     "text": [
      " 72%|███████▏  | 72/100 [08:41<03:31,  7.54s/it]"
     ]
    },
    {
     "name": "stdout",
     "output_type": "stream",
     "text": [
      "Round 72 server fixing with iters/actual_iters/alpha 1/100/0.0342\n"
     ]
    },
    {
     "name": "stderr",
     "output_type": "stream",
     "text": [
      " 73%|███████▎  | 73/100 [08:49<03:20,  7.41s/it]"
     ]
    },
    {
     "name": "stdout",
     "output_type": "stream",
     "text": [
      "Round 73 server fixing with iters/actual_iters/alpha 1/100/0.0469\n"
     ]
    },
    {
     "name": "stderr",
     "output_type": "stream",
     "text": [
      " 74%|███████▍  | 74/100 [08:56<03:10,  7.32s/it]"
     ]
    },
    {
     "name": "stdout",
     "output_type": "stream",
     "text": [
      "Round 74 server fixing with iters/actual_iters/alpha 2/100/0.0728\n"
     ]
    },
    {
     "name": "stderr",
     "output_type": "stream",
     "text": [
      " 75%|███████▌  | 75/100 [09:03<03:01,  7.24s/it]"
     ]
    },
    {
     "name": "stdout",
     "output_type": "stream",
     "text": [
      "Round 75 server fixing with iters/actual_iters/alpha 2/100/0.0532\n",
      "\n",
      "Round 75 详情:\n",
      "  准确率: 57.31%\n",
      "  客户端数据量: 3946\n",
      "  D(P'_t): 0.037136\n",
      "  D(P_0): 0.212060\n",
      "  alpha: 0.0532\n",
      "  平均迭代次数: 39.46\n",
      "  服务器迭代次数: 2\n"
     ]
    },
    {
     "name": "stderr",
     "output_type": "stream",
     "text": [
      " 76%|███████▌  | 76/100 [09:10<02:53,  7.22s/it]"
     ]
    },
    {
     "name": "stdout",
     "output_type": "stream",
     "text": [
      "Round 76 server fixing with iters/actual_iters/alpha 2/100/0.0624\n"
     ]
    },
    {
     "name": "stderr",
     "output_type": "stream",
     "text": [
      " 77%|███████▋  | 77/100 [09:17<02:45,  7.20s/it]"
     ]
    },
    {
     "name": "stdout",
     "output_type": "stream",
     "text": [
      "Round 77 server fixing with iters/actual_iters/alpha 1/100/0.0430\n"
     ]
    },
    {
     "name": "stderr",
     "output_type": "stream",
     "text": [
      " 78%|███████▊  | 78/100 [09:25<02:40,  7.28s/it]"
     ]
    },
    {
     "name": "stdout",
     "output_type": "stream",
     "text": [
      "Round 78 server fixing with iters/actual_iters/alpha 1/100/0.0345\n"
     ]
    },
    {
     "name": "stderr",
     "output_type": "stream",
     "text": [
      " 79%|███████▉  | 79/100 [09:32<02:31,  7.21s/it]"
     ]
    },
    {
     "name": "stdout",
     "output_type": "stream",
     "text": [
      "Round 79 server fixing with iters/actual_iters/alpha 1/100/0.0441\n"
     ]
    },
    {
     "name": "stderr",
     "output_type": "stream",
     "text": [
      " 80%|████████  | 80/100 [09:39<02:23,  7.16s/it]"
     ]
    },
    {
     "name": "stdout",
     "output_type": "stream",
     "text": [
      "Round 80 server fixing with iters/actual_iters/alpha 0/100/0.0247\n",
      "\n",
      "Round 80 详情:\n",
      "  准确率: 57.84%\n",
      "  客户端数据量: 3953\n",
      "  D(P'_t): 0.016040\n",
      "  D(P_0): 0.212060\n",
      "  alpha: 0.0247\n",
      "  平均迭代次数: 39.53\n",
      "  服务器迭代次数: 0\n"
     ]
    },
    {
     "name": "stderr",
     "output_type": "stream",
     "text": [
      " 81%|████████  | 81/100 [09:46<02:15,  7.13s/it]"
     ]
    },
    {
     "name": "stdout",
     "output_type": "stream",
     "text": [
      "Round 80, Test Accuracy: 58.09%, Train Loss: 0.0021\n",
      "Round 81 server fixing with iters/actual_iters/alpha 0/100/0.0199\n"
     ]
    },
    {
     "name": "stderr",
     "output_type": "stream",
     "text": [
      " 82%|████████▏ | 82/100 [09:53<02:07,  7.11s/it]"
     ]
    },
    {
     "name": "stdout",
     "output_type": "stream",
     "text": [
      "Round 82 server fixing with iters/actual_iters/alpha 1/100/0.0444\n"
     ]
    },
    {
     "name": "stderr",
     "output_type": "stream",
     "text": [
      " 83%|████████▎ | 83/100 [10:00<02:01,  7.17s/it]"
     ]
    },
    {
     "name": "stdout",
     "output_type": "stream",
     "text": [
      "Round 83 server fixing with iters/actual_iters/alpha 0/100/0.0116\n"
     ]
    },
    {
     "name": "stderr",
     "output_type": "stream",
     "text": [
      " 84%|████████▍ | 84/100 [10:08<01:56,  7.28s/it]"
     ]
    },
    {
     "name": "stdout",
     "output_type": "stream",
     "text": [
      "Round 84 server fixing with iters/actual_iters/alpha 1/100/0.0344\n"
     ]
    },
    {
     "name": "stderr",
     "output_type": "stream",
     "text": [
      " 85%|████████▌ | 85/100 [10:15<01:50,  7.40s/it]"
     ]
    },
    {
     "name": "stdout",
     "output_type": "stream",
     "text": [
      "Round 85 server fixing with iters/actual_iters/alpha 2/100/0.0681\n",
      "\n",
      "Round 85 详情:\n",
      "  准确率: 56.27%\n",
      "  客户端数据量: 3955\n",
      "  D(P'_t): 0.052565\n",
      "  D(P_0): 0.212060\n",
      "  alpha: 0.0681\n",
      "  平均迭代次数: 39.55\n",
      "  服务器迭代次数: 2\n"
     ]
    },
    {
     "name": "stderr",
     "output_type": "stream",
     "text": [
      " 86%|████████▌ | 86/100 [10:23<01:44,  7.45s/it]"
     ]
    },
    {
     "name": "stdout",
     "output_type": "stream",
     "text": [
      "Round 86 server fixing with iters/actual_iters/alpha 1/100/0.0357\n"
     ]
    },
    {
     "name": "stderr",
     "output_type": "stream",
     "text": [
      " 87%|████████▋ | 87/100 [10:30<01:37,  7.51s/it]"
     ]
    },
    {
     "name": "stdout",
     "output_type": "stream",
     "text": [
      "Round 87 server fixing with iters/actual_iters/alpha 1/100/0.0386\n"
     ]
    },
    {
     "name": "stderr",
     "output_type": "stream",
     "text": [
      " 88%|████████▊ | 88/100 [10:38<01:29,  7.46s/it]"
     ]
    },
    {
     "name": "stdout",
     "output_type": "stream",
     "text": [
      "Round 88 server fixing with iters/actual_iters/alpha 1/100/0.0279\n"
     ]
    },
    {
     "name": "stderr",
     "output_type": "stream",
     "text": [
      " 89%|████████▉ | 89/100 [10:45<01:21,  7.37s/it]"
     ]
    },
    {
     "name": "stdout",
     "output_type": "stream",
     "text": [
      "Round 89 server fixing with iters/actual_iters/alpha 0/100/0.0239\n"
     ]
    },
    {
     "name": "stderr",
     "output_type": "stream",
     "text": [
      " 90%|█████████ | 90/100 [10:52<01:12,  7.29s/it]"
     ]
    },
    {
     "name": "stdout",
     "output_type": "stream",
     "text": [
      "Round 90 server fixing with iters/actual_iters/alpha 0/100/0.0155\n",
      "\n",
      "Round 90 详情:\n",
      "  准确率: 58.89%\n",
      "  客户端数据量: 3953\n",
      "  D(P'_t): 0.010517\n",
      "  D(P_0): 0.212060\n",
      "  alpha: 0.0155\n",
      "  平均迭代次数: 39.53\n",
      "  服务器迭代次数: 0\n"
     ]
    },
    {
     "name": "stderr",
     "output_type": "stream",
     "text": [
      " 91%|█████████ | 91/100 [10:59<01:04,  7.22s/it]"
     ]
    },
    {
     "name": "stdout",
     "output_type": "stream",
     "text": [
      "Round 90, Test Accuracy: 59.07%, Train Loss: 0.0016\n",
      "Round 91 server fixing with iters/actual_iters/alpha 1/100/0.0277\n"
     ]
    },
    {
     "name": "stderr",
     "output_type": "stream",
     "text": [
      " 92%|█████████▏| 92/100 [11:06<00:57,  7.17s/it]"
     ]
    },
    {
     "name": "stdout",
     "output_type": "stream",
     "text": [
      "Round 92 server fixing with iters/actual_iters/alpha 0/100/0.0160\n"
     ]
    },
    {
     "name": "stderr",
     "output_type": "stream",
     "text": [
      " 93%|█████████▎| 93/100 [11:13<00:50,  7.19s/it]"
     ]
    },
    {
     "name": "stdout",
     "output_type": "stream",
     "text": [
      "Round 93 server fixing with iters/actual_iters/alpha 1/100/0.0375\n"
     ]
    },
    {
     "name": "stderr",
     "output_type": "stream",
     "text": [
      " 94%|█████████▍| 94/100 [11:20<00:42,  7.15s/it]"
     ]
    },
    {
     "name": "stdout",
     "output_type": "stream",
     "text": [
      "Round 94 server fixing with iters/actual_iters/alpha 1/100/0.0430\n"
     ]
    },
    {
     "name": "stderr",
     "output_type": "stream",
     "text": [
      " 95%|█████████▌| 95/100 [11:28<00:35,  7.12s/it]"
     ]
    },
    {
     "name": "stdout",
     "output_type": "stream",
     "text": [
      "Round 95 server fixing with iters/actual_iters/alpha 0/100/0.0111\n",
      "\n",
      "Round 95 详情:\n",
      "  准确率: 59.06%\n",
      "  客户端数据量: 3956\n",
      "  D(P'_t): 0.007644\n",
      "  D(P_0): 0.212060\n",
      "  alpha: 0.0111\n",
      "  平均迭代次数: 39.56\n",
      "  服务器迭代次数: 0\n"
     ]
    },
    {
     "name": "stderr",
     "output_type": "stream",
     "text": [
      " 96%|█████████▌| 96/100 [11:35<00:28,  7.09s/it]"
     ]
    },
    {
     "name": "stdout",
     "output_type": "stream",
     "text": [
      "Round 96 server fixing with iters/actual_iters/alpha 0/100/0.0146\n"
     ]
    },
    {
     "name": "stderr",
     "output_type": "stream",
     "text": [
      " 97%|█████████▋| 97/100 [11:42<00:21,  7.08s/it]"
     ]
    },
    {
     "name": "stdout",
     "output_type": "stream",
     "text": [
      "Round 97 server fixing with iters/actual_iters/alpha 1/100/0.0267\n"
     ]
    },
    {
     "name": "stderr",
     "output_type": "stream",
     "text": [
      " 98%|█████████▊| 98/100 [11:49<00:14,  7.07s/it]"
     ]
    },
    {
     "name": "stdout",
     "output_type": "stream",
     "text": [
      "Round 98 server fixing with iters/actual_iters/alpha 1/100/0.0276\n"
     ]
    },
    {
     "name": "stderr",
     "output_type": "stream",
     "text": [
      " 99%|█████████▉| 99/100 [11:56<00:07,  7.07s/it]"
     ]
    },
    {
     "name": "stdout",
     "output_type": "stream",
     "text": [
      "Round 99 server fixing with iters/actual_iters/alpha 1/100/0.0277\n",
      "\n",
      "Round 99 详情:\n",
      "  准确率: 57.55%\n",
      "  客户端数据量: 3958\n",
      "  D(P'_t): 0.020142\n",
      "  D(P_0): 0.212060\n",
      "  alpha: 0.0277\n",
      "  平均迭代次数: 39.58\n",
      "  服务器迭代次数: 1\n"
     ]
    },
    {
     "name": "stderr",
     "output_type": "stream",
     "text": [
      "100%|██████████| 100/100 [12:03<00:00,  7.24s/it]"
     ]
    },
    {
     "name": "stdout",
     "output_type": "stream",
     "text": [
      "FedDU - 第二十轮测试精度: 48.96%, 第二十轮训练损失: 0.0069\n",
      "\n",
      "\n",
      "FedDU - 最终测试精度: 57.78%, 最终训练损失: 0.0013\n"
     ]
    },
    {
     "name": "stderr",
     "output_type": "stream",
     "text": [
      "\n"
     ]
    }
   ],
   "source": [
    "\n",
    "def set_random_seed(seed):\n",
    "    \"\"\"\n",
    "        set random seed\n",
    "    \"\"\"\n",
    "    random.seed(seed)\n",
    "    np.random.seed(seed)\n",
    "    torch.manual_seed(seed)\n",
    "    torch.cuda.manual_seed(seed)\n",
    "    torch.cuda.manual_seed_all(seed)\n",
    "\n",
    "\n",
    "device = torch.device(\"cuda:\" + str(GPU) if torch.cuda.is_available else 'cpu')\n",
    "\n",
    "# 固定随机数\n",
    "if random_fix:\n",
    "    set_random_seed(seed)\n",
    "\n",
    "if dataset == 'cifar100':\n",
    "# 准备CIFAR100数据集\n",
    "    cifar, test_dataset = CIFAR100()\n",
    "    prob = get_prob(non_iid, client_num, class_num=20)\n",
    "    client_data = create_data_all_train(prob, size_per_client, cifar, N=20)   # 这里改为全部构建训练集\n",
    "\n",
    "    # 将测试标签转换为粗类别\n",
    "    test_dataset.targets = sparse2coarse(test_dataset.targets)\n",
    "\n",
    "    # 如果需要确保测试标签为整数类型\n",
    "    test_dataset.targets = test_dataset.targets.astype(int)\n",
    "\n",
    "\n",
    "    #CIFAR1--IID 挑选服务器子集：\n",
    "    if server_iid:\n",
    "        server_images, server_labels = select_server_subset(cifar, percentage=server_percentage, mode='iid')\n",
    "    else:\n",
    "        server_images, server_labels = select_server_subset(cifar, percentage=server_percentage,\n",
    "                                                        mode='non-iid', dirichlet_alpha=0.5)\n",
    "\n",
    "    init_model = ResNet18_cifar10().to(device)\n",
    "    initial_w = copy.deepcopy(init_model.state_dict())\n",
    "elif dataset =='shake':\n",
    "    # 准备shakespeare数据集\n",
    "    train_dataset = ShakeSpeare(True)\n",
    "    test_dataset = ShakeSpeare(False)\n",
    "\n",
    "    total_shake,total_label = [],[]\n",
    "    for item,labels in train_dataset:\n",
    "        total_shake.append(item.numpy())\n",
    "        total_label.append(labels)\n",
    "    total_shake = np.array(total_shake)\n",
    "    total_label = np.array(total_label)\n",
    "\n",
    "    shake = [total_shake, total_label]\n",
    "\n",
    "    # 构建每个client的数据量\n",
    "    dict_users = train_dataset.get_client_dic()\n",
    "\n",
    "    # 统计类别数量\n",
    "    unique_classes = np.unique(total_label)\n",
    "    num_classes = len(unique_classes)\n",
    "    print(\"shake数据集中类别数量：\", num_classes)\n",
    "    # 对于每个类别计算样本数量\n",
    "    class_counts = [np.sum(total_label == cls) for cls in unique_classes]\n",
    "    # 将数量转换成字符串后，用逗号隔开，并打印（只输出数字）\n",
    "    print(\", \".join(map(str, class_counts)))\n",
    "\n",
    "    # 统计客户端数量\n",
    "    num_clients = len(dict_users)\n",
    "    print(\"shake数据集中客户端数量：\", num_clients)\n",
    "\n",
    "    # 构建client_data\n",
    "    client_data = []\n",
    "    for client in sorted(dict_users.keys()):\n",
    "        indices = np.array(list(dict_users[client]), dtype=np.int64)\n",
    "        client_images = total_shake[indices]\n",
    "        client_labels = total_label[indices]\n",
    "        client_data.append((client_images, client_labels))\n",
    "\n",
    "    # Shake 挑选服务器子集，通过 Dirichlet 分布参数控制（例如 dirichlet_alpha=0.5）：\n",
    "    if server_iid:\n",
    "        server_images, server_labels = select_server_subset(shake, percentage=server_percentage,\n",
    "                                                      mode='iid')\n",
    "    else:\n",
    "        server_images, server_labels = select_server_subset(shake, percentage=server_percentage,\n",
    "                                                        mode='non-iid', dirichlet_alpha=0.5)\n",
    "\n",
    "    # Shakespeare —— 用FedMut中提出的LSTM网络\n",
    "    init_model = CharLSTM().to(device)\n",
    "    initial_w = copy.deepcopy(init_model.state_dict())\n",
    "elif dataset == \"cifar10\":\n",
    "    trans_cifar10_train = transforms.Compose(\n",
    "        [\n",
    "            transforms.ToTensor(),\n",
    "            transforms.Normalize((0.5, 0.5, 0.5), (0.5, 0.5, 0.5)),\n",
    "        ]\n",
    "    )\n",
    "    trans_cifar10_val = transforms.Compose(\n",
    "        [\n",
    "            transforms.ToTensor(),\n",
    "            transforms.Normalize((0.5, 0.5, 0.5), (0.5, 0.5, 0.5)),\n",
    "        ]\n",
    "    )\n",
    "    \n",
    "    train_dataset = torchvision.datasets.CIFAR10(\n",
    "        \"./data/cifar10\", train=True, download=True, transform=trans_cifar10_train\n",
    "    )\n",
    "    test_dataset = torchvision.datasets.CIFAR10(\n",
    "        \"./data/cifar10\", train=False, download=True, transform=trans_cifar10_val\n",
    "    )\n",
    "    \n",
    "    # # 输出训练集和测试集的大小\n",
    "    # print(f\"Origin CIFAR10 Training set size: {len(train_dataset)}\")\n",
    "    # print(f\"Origin CIFAR10 Test set size origin: {len(test_dataset)}\")\n",
    "    \n",
    "    \n",
    "    # 将训练集图像数据与标签转换成 numpy 数组（与 CIFAR-100 部分类似）\n",
    "    total_img, total_label = [], []\n",
    "    for img, label in train_dataset:\n",
    "        total_img.append(np.array(img))\n",
    "        total_label.append(label)\n",
    "    total_img = np.array(total_img)\n",
    "    total_label = np.array(total_label)\n",
    "    cifar = [total_img, total_label]\n",
    "\n",
    "   # 根据 Dirichlet 分布生成客户端数据概率矩阵（注意：这里类别数为10）\n",
    "    prob = get_prob(non_iid, client_num, class_num=10)\n",
    "    \n",
    "    # 构造每个客户端的本地数据（这里依然使用 create_data_all_train）\n",
    "    client_data = create_data_all_train(prob, size_per_client, cifar, N=10)\n",
    "    \n",
    "    \n",
    "    # 从训练集挑选出服务器训练使用的数据子集\n",
    "    if server_iid:\n",
    "        server_images, server_labels = select_server_subset(\n",
    "            cifar, percentage=server_percentage, mode=\"iid\"\n",
    "        )\n",
    "    else:\n",
    "        server_images, server_labels = select_server_subset(\n",
    "            cifar, percentage=server_percentage, mode=\"non-iid\", dirichlet_alpha=0.5\n",
    "        )\n",
    "    \n",
    "    if origin_model == 'cnn':    \n",
    "        # 初始化基于 CNN 的模型，这里使用你已定义好的 CNNCifar 网络\n",
    "        init_model = cnncifar().to(device)\n",
    "        initial_w = copy.deepcopy(init_model.state_dict())\n",
    "    elif origin_model == 'resnet':\n",
    "        init_model = ResNet18_cifar10().to(device)\n",
    "        initial_w = copy.deepcopy(init_model.state_dict())\n",
    "\n",
    "\n",
    "#  打印数据集情况\n",
    "all_images = []\n",
    "all_labels = []\n",
    "for data in client_data:\n",
    "    all_images.extend(data[0])\n",
    "    all_labels.extend(data[1])\n",
    "comb_client_data = [np.array(all_images), np.array(all_labels)]\n",
    "\n",
    "# 输出comb_client_data情况\n",
    "imgs, lbls = comb_client_data\n",
    "lbls = np.array(lbls)\n",
    "total_count = len(lbls)\n",
    "unique_classes, counts = np.unique(lbls, return_counts=True)\n",
    "\n",
    "num_classes = int(unique_classes.max()) + 1  # 列表长度应该为最大类别\n",
    "class_counts = [0] * num_classes\n",
    "\n",
    "for cls, cnt in zip(unique_classes, counts):\n",
    "    class_counts[cls] = cnt\n",
    "\n",
    "# 打印格式：Total: 总数 类别0计数 类别1计数 ... 类别19计数\n",
    "print(\"Traning Client Total: {}\".format(\" \".join([str(total_count)] + [str(c) for c in class_counts])))\n",
    "\n",
    "\n",
    "# 打印每个客户端训练数据情况（只输出前10个）\n",
    "for i, (imgs, lbls) in enumerate(client_data[:10]):\n",
    "    lbls = np.array(lbls)\n",
    "    total_count = len(lbls)\n",
    "    unique_classes, counts = np.unique(lbls, return_counts=True)\n",
    "    \n",
    "    num_classes = int(unique_classes.max()) + 1  # 列表长度应该为最大类别\n",
    "    class_counts = [0] * num_classes\n",
    "    \n",
    "    for cls, cnt in zip(unique_classes, counts):\n",
    "        class_counts[cls] = cnt\n",
    "    # 打印格式：Client i: 总数 类别0计数 类别1计数 ... 类别19计数\n",
    "    print(\"Client {}: {}\".format(i, \" \".join([str(total_count)] + [str(c) for c in class_counts])))\n",
    "    \n",
    "\n",
    "# 为了与后续代码兼容，这里将 server_data 定义为一个列表：[images, labels]\n",
    "server_data = [server_images, server_labels]\n",
    "\n",
    "# # 输出测试集数据\n",
    "# total_count = len(test_dataset)\n",
    "# labels = np.array(test_dataset.label)\n",
    "# _, counts = np.unique(labels, return_counts=True)\n",
    "\n",
    "# print(f\"测试集总数量 {total_count}\")\n",
    "# print(\", \".join(str(c) for c in counts))\n",
    "\n",
    "# 打印服务器数据情况\n",
    "s_imgs, s_lbls = server_data\n",
    "s_lbls = np.array(s_lbls)\n",
    "total_count = len(s_lbls)\n",
    "unique_classes, counts = np.unique(s_lbls, return_counts=True)\n",
    "\n",
    "num_classes = int(unique_classes.max()) + 1  # 列表长度应该为最大类别+1\n",
    "class_counts = [0] * num_classes\n",
    "\n",
    "for cls, cnt in zip(unique_classes, counts):\n",
    "    class_counts[cls] = cnt\n",
    "# 输出格式: Server: 总数 类别0计数 类别1计数 ... 类别19计数\n",
    "print(\"Server: {}\".format(\" \".join([str(total_count)] + [str(c) for c in class_counts])))\n",
    "# print(\"  前5个标签: \", lbls[:5])\n",
    "# print(\"  前5个数据形状: \", [server_data[0][j].shape for j in range(min(5, len(server_data[0])))])\n",
    "\n",
    "\n",
    "# 初始化结果存储字典\n",
    "results_test_acc = {}\n",
    "results_train_loss = {}\n",
    "\n",
    "# # CLG_Mut 训练\n",
    "# test_acc_CLG_Mut, train_loss_CLG_Mut = CLG_Mut(copy.deepcopy(init_model), global_round, eta, gamma, K, E, M)\n",
    "# results_test_acc['CLG_Mut'] = test_acc_CLG_Mut\n",
    "# results_train_loss['CLG_Mut'] = train_loss_CLG_Mut\n",
    "\n",
    "# # CLG_Mut_2 训练\n",
    "# test_acc_CLG_Mut_2, train_loss_CLG_Mut_2 = CLG_Mut_2(copy.deepcopy(init_model), global_round, eta, gamma, K, E, M)\n",
    "# results_test_acc['CLG_Mut_2'] = test_acc_CLG_Mut_2\n",
    "# results_train_loss['CLG_Mut_2'] = train_loss_CLG_Mut_2\n",
    "\n",
    "# # CLG_Mut_3 训练\n",
    "# test_acc_CLG_Mut_3, train_loss_CLG_Mut_3 = CLG_Mut_3(copy.deepcopy(init_model), global_round, eta, gamma, K, E, M)\n",
    "# results_test_acc['CLG_Mut_3'] = test_acc_CLG_Mut_3\n",
    "# results_train_loss['CLG_Mut_3'] = train_loss_CLG_Mut_3\n",
    "\n",
    "\n",
    "# # FedMut 训练\n",
    "# test_acc_FedMut, train_loss_FedMut = FedMut(copy.deepcopy(init_model), global_round, eta, K, M)\n",
    "# results_test_acc['FedMut'] = test_acc_FedMut\n",
    "# results_train_loss['FedMut'] = train_loss_FedMut\n",
    "\n",
    "# # Server-only 训练\n",
    "# test_acc_server_only, train_loss_server_only = server_only(initial_w, global_round, gamma, E)\n",
    "# results_test_acc['Server_only'] = test_acc_server_only\n",
    "# results_train_loss['Server_only'] = train_loss_server_only\n",
    "\n",
    "# # FedAvg 训练\n",
    "# test_acc_fedavg, train_loss_fedavg = fedavg(initial_w, global_round, eta, K, M)\n",
    "# results_test_acc['FedAvg'] = test_acc_fedavg\n",
    "# results_train_loss['FedAvg'] = train_loss_fedavg\n",
    "\n",
    "# # CLG_SGD 训练\n",
    "# test_acc_CLG_SGD, train_loss_CLG_SGD = CLG_SGD(initial_w, global_round, eta, gamma, K, E, M)\n",
    "# results_test_acc['CLG_SGD'] = test_acc_CLG_SGD\n",
    "# results_train_loss['CLG_SGD'] = train_loss_CLG_SGD\n",
    "\n",
    "# FedDU 训练\n",
    "test_acc_CLG_SGD, train_loss_CLG_SGD = FedDU_modify(initial_w, global_round, eta, gamma, K, E, M)\n",
    "results_test_acc['FedDU'] = test_acc_CLG_SGD\n",
    "results_train_loss['FedDU'] = train_loss_CLG_SGD\n",
    "\n",
    "# 如果存在至少20轮训练，则输出第二十轮的测试精度和训练损失\n",
    "for algo in results_test_acc:\n",
    "    if len(results_test_acc[algo]) >= 20:\n",
    "        print(f\"{algo} - 第二十轮测试精度: {results_test_acc[algo][19]:.2f}%, 第二十轮训练损失: {results_train_loss[algo][19]:.4f}\")\n",
    "\n",
    "print(\"\\n\")\n",
    "\n",
    "# 打印最终训练结果\n",
    "for algo in results_test_acc:\n",
    "    print(f\"{algo} - 最终测试精度: {results_test_acc[algo][-1]:.2f}%, 最终训练损失: {results_train_loss[algo][-1]:.4f}\")\n"
   ]
  },
  {
   "cell_type": "code",
   "execution_count": 53,
   "metadata": {},
   "outputs": [
    {
     "data": {
      "image/png": "[encoded data removed]",
      "text/plain": [
       "<Figure size 1200x600 with 1 Axes>"
      ]
     },
     "metadata": {},
     "output_type": "display_data"
    },
    {
     "data": {
      "image/png": "[encoded data removed]",
      "text/plain": [
       "<Figure size 1200x600 with 1 Axes>"
      ]
     },
     "metadata": {},
     "output_type": "display_data"
    }
   ],
   "source": [
    "import matplotlib.pyplot as plt\n",
    "import seaborn as sns\n",
    "import matplotlib\n",
    "import platform\n",
    "import datetime\n",
    "\n",
    "\n",
    "# 定义训练轮数\n",
    "rounds = range(1, global_round + 1)\n",
    "\n",
    "# 设置绘图风格（可选）\n",
    "plt.style.use('seaborn-v0_8-darkgrid')\n",
    "\n",
    "# 获取当前时间戳，格式为 YYYYmmdd_HHMMSS\n",
    "timestamp = datetime.datetime.now().strftime(\"%Y%m%d_%H%M%S\")\n",
    "\n",
    "# Plot Test Accuracy Comparison\n",
    "plt.figure(figsize=(12, 6))\n",
    "for algo, acc in results_test_acc.items():\n",
    "    plt.plot(rounds, acc, label=algo)\n",
    "plt.xlabel('Training Rounds', fontsize=14)\n",
    "plt.ylabel('Test Accuracy (%)', fontsize=14)\n",
    "plt.title('Test Accuracy Comparison of Different Algorithms', fontsize=16)\n",
    "plt.legend(fontsize=12)\n",
    "plt.xticks(fontsize=12)\n",
    "plt.yticks(fontsize=12)\n",
    "plt.grid(True)\n",
    "plt.tight_layout()\n",
    "plt.savefig(f'output/test_accuracy_{origin_model}_{timestamp}.png')  # 保存图像\n",
    "plt.show()\n",
    "\n",
    "\n",
    "# Plot Train Loss Comparison\n",
    "plt.figure(figsize=(12, 6))\n",
    "for algo, loss in results_train_loss.items():\n",
    "    plt.plot(rounds, loss, label=algo)\n",
    "plt.xlabel('Training Rounds', fontsize=14)\n",
    "plt.ylabel('Train Loss', fontsize=14)\n",
    "plt.title('Train Loss Comparison of Different Algorithms', fontsize=16)\n",
    "plt.legend(fontsize=12)\n",
    "plt.xticks(fontsize=12)\n",
    "plt.yticks(fontsize=12)\n",
    "plt.grid(True)\n",
    "plt.tight_layout()\n",
    "plt.savefig(f'output/train_loss_{origin_model}_{timestamp}.png')  # 保存图像\n",
    "plt.show()"
   ]
  }
 ],
 "metadata": {
  "kernelspec": {
   "display_name": "env8",
   "language": "python",
   "name": "python3"
  },
  "language_info": {
   "codemirror_mode": {
    "name": "ipython",
    "version": 3
   },
   "file_extension": ".py",
   "mimetype": "text/x-python",
   "name": "python",
   "nbconvert_exporter": "python",
   "pygments_lexer": "ipython3",
   "version": "3.8.19"
  }
 },
 "nbformat": 4,
 "nbformat_minor": 2
}
